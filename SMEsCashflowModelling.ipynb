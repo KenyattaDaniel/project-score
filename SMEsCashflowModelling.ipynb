{
 "cells": [
  {
   "cell_type": "markdown",
   "id": "eastern-state",
   "metadata": {},
   "source": [
    "# Creditworthiness of Caribbean Netherlands SMEs: measuring the financial ability and responsibility of SMEs in the Caribbean Netherlands to borrow and repay micro loans (Part2) #"
   ]
  },
  {
   "cell_type": "markdown",
   "id": "german-naples",
   "metadata": {},
   "source": [
    "### Introduction ###"
   ]
  },
  {
   "cell_type": "markdown",
   "id": "beautiful-snake",
   "metadata": {},
   "source": [
    "**Research Context**"
   ]
  },
  {
   "cell_type": "markdown",
   "id": "patent-kidney",
   "metadata": {},
   "source": [
    "This is the followup to a project proposal **(Kenyatta, 2021)** I submitted as an assignment for the Data Programming in Python module at the University of London. My stated goal within the initial proposal was to develop a credit risk model that can be used by banks and financial institutions in the Caribbean Netherlands to \"measure and score the financial ability and responsibility of SMEs\" **(Kenyatta, 2021)** in repaying micro loans. The bank transactions of SME's would be the primary data used to train and evaluate the accuracy of such a credit risk model. Bank transactions are ideal because they offer a real time and ongoing insight into an individual's or business financial activities; particulary from a cashflow perspective. To that affect the bank transactions of TACT, an SME based in the Caribbean, was obtained, cleaned, explored and prepared for this next step.\n",
    "\n",
    "<br>Following the initial project proposal, I carried out further research into the field of credit risk modelling for businesses. Traditionally banks and lending institutions use credit reports from external credit bureaus (e.g. TransUnion, Equifax, and Experian) in addition to financial statements when assessing the credit worthiness of [Micro, Small and Medium sized] businesses **(Astri, 2020)**. Essentially banks use this information to identify the probability of default (i.e. PD); the likelihood over a specified period, usually one year, that a borrower will not be able to make scheduled repayments **(Kenton, 2021)**. However, according to a report by the Hong Kong Applied Science and Technology Research Institute (i.e. ASTRI), \"financial institutions seeking to assess the creditworthiness of MSMEs face a serious constraint and source of inefficiency in the lack of transparent management information available. Many banks prefer to lend to large enterprises rather than MSMEs because these enterprises are able to provide clear audited financial statements. It can be difficult for banks to evaluate MSMEs because they often do not have solid accounting systems in place\" **(Astri, 2020)**. In the Caribbean Netherland this problem is exacerbated by the fact that most businesses are defined as micro or small enterprises. As such they are not required by NL GAAP to produce audited financial statements. \n",
    "\n",
    "<br>Alternative data sources are increasingly being used to overcome challenges in assessing the credit worthiness of MSMEs. During my research I discovered that \"the use of bank transactions is [a] relatively new\" concept and is seen as an \"alternative data\" source within the space of credit risk modelling **(Luber, 2021)**. This is according to Equifax, one of the largest consumer credit reporting agencies worldwide **(Luber, 2021)**. Alternative data also includes transactional data such as mobile phone usage, electricity consumption and social media data in addition to bank statements. The benefits of using alternative data for credit risk modeling include greater insights, data reliability, risk mitigation and continous monitoring. On the other hand, some key challenge in working with alternative data includes maintaining user privacy, the effort required in dataset feature engineering and in selecting the appropriate machine learning algorithms. On the last point, my research revealed that credit risk modelling has traditionally been seen as a classification problem; with a focus on identifying whether a user is likely to default or not. As a result, when it comes to applying machine learning algorithms to create traditional credit risk models, \"logistic regression is considered the industry's practice\" **(Verkade, 2018)**. However, my research also revealed that \"there is no single answer to the question of which machine learning algorithm is best to use for alternative credit scoring\" and that \"model selection therefore needs to be an exploratory process involving the continuous evaluation of multiple machine learning models **(Astri, 2020)**.\" \n"
   ]
  },
  {
   "cell_type": "markdown",
   "id": "vulnerable-economy",
   "metadata": {},
   "source": [
    "**Disclaimers**"
   ]
  },
  {
   "cell_type": "markdown",
   "id": "mighty-france",
   "metadata": {},
   "source": [
    "As of present, I have not been able to obtain authorization to use the bank transactions of other SME's based in the Caribbean Netherlands. It is my intention to continue working on this project in the future and to utilize the bank transactions of other SMEs. Upon a brief review of the BES Personal Data Protection Act **(CBPBES,2021)** and GDPR rules **(EUR-Lex, 2021)**, I realize that special care and consideration need to go into how this data is obtained, processed and stored. The work needed here is outside of the scope of the project at this point in time. As such, an important disclaimer to make up front is that the analysis and results in this assigment are based on the bank transactions of a single SME business called TacT which I own and operate. With that said, I do hope to derive insights from exploring the dataset and applying machine learning modeling techniques. The hope is that the acquired insights and results can be applied to a larger more diverse dataset in the near future."
   ]
  },
  {
   "cell_type": "markdown",
   "id": "suburban-mounting",
   "metadata": {},
   "source": [
    "**Updated Project Objectives**"
   ]
  },
  {
   "cell_type": "markdown",
   "id": "accepting-painting",
   "metadata": {},
   "source": [
    "Based on the above research context and disclaimers, I aim to achieve the following objectives with this project;\n",
    "\n",
    "a. Further engineer the dataset features for the purposes of applying appropriate machine learning algorithms\n",
    "<br>b. Explore the dataset to determine whether it is fit for the chosen modeling techniques\n",
    "<br>c. Make use of external altnerative data if available and where appropriate\n",
    "<br>d. Explore and compare the accuracy of atleast two ML algorithms for credit risk modeling (e.g. regression vs classification)\n",
    "<br>e. Evaluate project lessons learnt and discuss future work required\n",
    "\n",
    "\n",
    "\n",
    " "
   ]
  },
  {
   "cell_type": "markdown",
   "id": "three-andorra",
   "metadata": {},
   "source": [
    "**Python Libraries**"
   ]
  },
  {
   "cell_type": "markdown",
   "id": "generic-geometry",
   "metadata": {},
   "source": [
    "Once again, Python will be used along with the following libraries to complete tasks including external data acquisition, feature set engineering, data visualization, model training and evaluation. Online documentation for the various libraries were accessed throughout the completion of this project. "
   ]
  },
  {
   "cell_type": "code",
   "execution_count": 1590,
   "id": "rolled-serial",
   "metadata": {},
   "outputs": [],
   "source": [
    "import numpy as np\n",
    "import pandas as pd\n",
    "import datetime as dt\n",
    "from scipy.stats import linregress\n",
    "from scipy.optimize import curve_fit\n",
    "import statsmodels.api as sm \n",
    "import matplotlib.pyplot as plt\n",
    "from sklearn.linear_model import LinearRegression\n",
    "from sklearn.model_selection import train_test_split\n",
    "from sklearn.feature_selection import SelectKBest\n",
    "from sklearn.feature_selection import f_regression\n",
    "import seaborn as sns\n",
    "from scipy import stats\n",
    "%matplotlib inline"
   ]
  },
  {
   "cell_type": "markdown",
   "id": "instructional-nature",
   "metadata": {},
   "source": [
    "**Special Instructions**"
   ]
  },
  {
   "cell_type": "markdown",
   "id": "copyrighted-packet",
   "metadata": {},
   "source": [
    "To obtain the correct output, please run the cells in this jupyter notebook sequentially from top to bottom. "
   ]
  },
  {
   "cell_type": "markdown",
   "id": "interim-loading",
   "metadata": {},
   "source": [
    "**Version Control**"
   ]
  },
  {
   "cell_type": "markdown",
   "id": "loving-revolution",
   "metadata": {},
   "source": [
    "The code for this project can be found on my personal Github repository at https://github.com/KenyattaDaniel/project-score"
   ]
  },
  {
   "cell_type": "markdown",
   "id": "aware-protocol",
   "metadata": {},
   "source": [
    "### Feature Engineering ###\n",
    "My research indicated that feature engineering although challenging, is important to derive value from alternative data used for credit risk modelling. Below I seek to add new features to the dataset utilizing my background in accounting. In particular, I'd like to add features that can assist in revealing cashflow timing patterns. "
   ]
  },
  {
   "cell_type": "markdown",
   "id": "consistent-cooling",
   "metadata": {},
   "source": [
    "**Dataset Import**\n",
    "<br>Below I import the summarized transactions (i.e. sumtrans) dataset created during the initial project **(Kenyatta, 2021)**. The sumtrans dataset contains the daily summarized bank transactions of my firm TACT throughout 2020. "
   ]
  },
  {
   "cell_type": "code",
   "execution_count": 1591,
   "id": "therapeutic-saying",
   "metadata": {
    "scrolled": false
   },
   "outputs": [],
   "source": [
    "sumtrans = pd.read_csv(\"data/sum_bank_trans.csv\")"
   ]
  },
  {
   "cell_type": "markdown",
   "id": "rocky-albuquerque",
   "metadata": {},
   "source": [
    "**Dataset Features Explained**\n",
    "<br>A short description of the dataset features are provided below;<br>\n",
    "<br>0. <u>postdate</u> = the transactions date by year-month-day\n",
    "<br>1. <u>uniquetypes</u> = a description of the unique transcations type per date\n",
    "<br>2. <u>numuniquetypes</u> = the number of unique transcations types per date\n",
    "<br>3. <u>numdebits</u> = the number of debit transcations per date (i.e. number of payments made)\n",
    "<br>4. <u>numcredits</u> = the number of credit transcations per date (i.e. number of payments received)\n",
    "<br>5. <u>sumdebits</u> = a total or summary of all debit amounts per date (i.e. total of payments made)\n",
    "<br>6. <u>sumcredits</u> = a total or summary of all credit amounts per date (i.e. total of payments received)\n",
    "<br>7. <u>sumdiff</u> = the difference between total debits and credits per date\n",
    "<br>8. <u>repayposs</u> = indicates whether cashflow was positive 1 or negative 0 per date\n",
    "<br>9. <u>repayscore</u> = arbitrary cashflow scoring system with 0 meaning negative cashflow and 5 meaning highest positive cashflow per date"
   ]
  },
  {
   "cell_type": "markdown",
   "id": "corrected-stanford",
   "metadata": {},
   "source": [
    "Below I provide an overview of the sumtrans dataset at present."
   ]
  },
  {
   "cell_type": "code",
   "execution_count": 1592,
   "id": "based-surrey",
   "metadata": {},
   "outputs": [
    {
     "data": {
      "text/html": [
       "<div>\n",
       "<style scoped>\n",
       "    .dataframe tbody tr th:only-of-type {\n",
       "        vertical-align: middle;\n",
       "    }\n",
       "\n",
       "    .dataframe tbody tr th {\n",
       "        vertical-align: top;\n",
       "    }\n",
       "\n",
       "    .dataframe thead th {\n",
       "        text-align: right;\n",
       "    }\n",
       "</style>\n",
       "<table border=\"1\" class=\"dataframe\">\n",
       "  <thead>\n",
       "    <tr style=\"text-align: right;\">\n",
       "      <th></th>\n",
       "      <th>postdate</th>\n",
       "      <th>uniquetypes</th>\n",
       "      <th>numuniquetypes</th>\n",
       "      <th>numdebits</th>\n",
       "      <th>numcredits</th>\n",
       "      <th>sumdebits</th>\n",
       "      <th>sumcredits</th>\n",
       "      <th>sumdiff</th>\n",
       "      <th>repayposs</th>\n",
       "      <th>repayscore</th>\n",
       "    </tr>\n",
       "  </thead>\n",
       "  <tbody>\n",
       "    <tr>\n",
       "      <th>0</th>\n",
       "      <td>2020-01-02</td>\n",
       "      <td>['DEBIT NOTE']</td>\n",
       "      <td>1</td>\n",
       "      <td>2.0</td>\n",
       "      <td>NaN</td>\n",
       "      <td>573.6</td>\n",
       "      <td>NaN</td>\n",
       "      <td>-573.6</td>\n",
       "      <td>0</td>\n",
       "      <td>0</td>\n",
       "    </tr>\n",
       "    <tr>\n",
       "      <th>1</th>\n",
       "      <td>2020-01-03</td>\n",
       "      <td>['DEBIT NOTE' 'C/A ATM/TB TRANSFER CR']</td>\n",
       "      <td>2</td>\n",
       "      <td>3.0</td>\n",
       "      <td>1.0</td>\n",
       "      <td>236.6</td>\n",
       "      <td>565.0</td>\n",
       "      <td>328.4</td>\n",
       "      <td>1</td>\n",
       "      <td>2</td>\n",
       "    </tr>\n",
       "    <tr>\n",
       "      <th>2</th>\n",
       "      <td>2020-01-06</td>\n",
       "      <td>['CUSTOMER DEPOSIT']</td>\n",
       "      <td>1</td>\n",
       "      <td>NaN</td>\n",
       "      <td>1.0</td>\n",
       "      <td>NaN</td>\n",
       "      <td>2290.0</td>\n",
       "      <td>2290.0</td>\n",
       "      <td>1</td>\n",
       "      <td>5</td>\n",
       "    </tr>\n",
       "    <tr>\n",
       "      <th>3</th>\n",
       "      <td>2020-01-07</td>\n",
       "      <td>['CREDIT NOTE' 'CUSTOMER DEPOSIT']</td>\n",
       "      <td>2</td>\n",
       "      <td>NaN</td>\n",
       "      <td>2.0</td>\n",
       "      <td>NaN</td>\n",
       "      <td>2540.0</td>\n",
       "      <td>2540.0</td>\n",
       "      <td>1</td>\n",
       "      <td>5</td>\n",
       "    </tr>\n",
       "    <tr>\n",
       "      <th>4</th>\n",
       "      <td>2020-01-09</td>\n",
       "      <td>['C/A ATM/TB BILL PAYMENT DT']</td>\n",
       "      <td>1</td>\n",
       "      <td>1.0</td>\n",
       "      <td>NaN</td>\n",
       "      <td>1000.0</td>\n",
       "      <td>NaN</td>\n",
       "      <td>-1000.0</td>\n",
       "      <td>0</td>\n",
       "      <td>0</td>\n",
       "    </tr>\n",
       "  </tbody>\n",
       "</table>\n",
       "</div>"
      ],
      "text/plain": [
       "     postdate                              uniquetypes  numuniquetypes  \\\n",
       "0  2020-01-02                           ['DEBIT NOTE']               1   \n",
       "1  2020-01-03  ['DEBIT NOTE' 'C/A ATM/TB TRANSFER CR']               2   \n",
       "2  2020-01-06                     ['CUSTOMER DEPOSIT']               1   \n",
       "3  2020-01-07       ['CREDIT NOTE' 'CUSTOMER DEPOSIT']               2   \n",
       "4  2020-01-09           ['C/A ATM/TB BILL PAYMENT DT']               1   \n",
       "\n",
       "   numdebits  numcredits  sumdebits  sumcredits  sumdiff  repayposs  \\\n",
       "0        2.0         NaN      573.6         NaN   -573.6          0   \n",
       "1        3.0         1.0      236.6       565.0    328.4          1   \n",
       "2        NaN         1.0        NaN      2290.0   2290.0          1   \n",
       "3        NaN         2.0        NaN      2540.0   2540.0          1   \n",
       "4        1.0         NaN     1000.0         NaN  -1000.0          0   \n",
       "\n",
       "   repayscore  \n",
       "0           0  \n",
       "1           2  \n",
       "2           5  \n",
       "3           5  \n",
       "4           0  "
      ]
     },
     "execution_count": 1592,
     "metadata": {},
     "output_type": "execute_result"
    }
   ],
   "source": [
    "sumtrans.head()"
   ]
  },
  {
   "cell_type": "code",
   "execution_count": 1593,
   "id": "vocational-april",
   "metadata": {},
   "outputs": [
    {
     "data": {
      "text/plain": [
       "(134, 10)"
      ]
     },
     "execution_count": 1593,
     "metadata": {},
     "output_type": "execute_result"
    }
   ],
   "source": [
    "sumtrans.shape"
   ]
  },
  {
   "cell_type": "markdown",
   "id": "continuous-hours",
   "metadata": {},
   "source": [
    "**Remove Unecessary Features**\n",
    "<br>Below I remove the uniquetypes feature. My intention is to apply classification algorithms (i.e. logistic regression) to the dataset features. This will not work with features that contain categorical data such as uniquetypes. I did consider applying one-hot encoding to the uniquetypes feature to convert it to numerical data. However I decided against this because the combination of the numuniquetypes, numdebits and numcredits features provide essentially the same information."
   ]
  },
  {
   "cell_type": "code",
   "execution_count": 1594,
   "id": "single-turkish",
   "metadata": {
    "scrolled": true
   },
   "outputs": [],
   "source": [
    "# First make copy of existing dataset\n",
    "sumtrans2 = sumtrans.copy()\n",
    "\n",
    "# Drop uniquetypes feature\n",
    "sumtrans2.drop(columns=['uniquetypes'], inplace=True)"
   ]
  },
  {
   "cell_type": "markdown",
   "id": "separated-swedish",
   "metadata": {},
   "source": [
    "**Rename Existing Features**\n",
    "<br>I would like to rename certain features to better describe the data records they contain."
   ]
  },
  {
   "cell_type": "code",
   "execution_count": 1595,
   "id": "exotic-bookmark",
   "metadata": {},
   "outputs": [],
   "source": [
    "# Define new column names to replace existing one\n",
    "newnames = {\"postdate\" : \"transdate\", \"numuniquetypes\": \"numtranstypes\", \n",
    "            \"repayposs\": \"cashresult\", \"repayscore\" : \"cashscore\" }\n",
    "\n",
    "sumtrans2.rename(columns=newnames, inplace=True)"
   ]
  },
  {
   "cell_type": "markdown",
   "id": "imported-korean",
   "metadata": {},
   "source": [
    "**Handling Features with NaN Values**\n",
    "<br>The numdebits, numcredits, sumdebits and sumcredit should not contain NaN values. For example, if there were zero credit transactions on a day, this is better represented as a 0 value within the numcredits feature and a 0.0 value within the sumcredits feature instead of NaN. "
   ]
  },
  {
   "cell_type": "code",
   "execution_count": 1596,
   "id": "sustained-moses",
   "metadata": {},
   "outputs": [],
   "source": [
    "# Fill all NaN values with 0\n",
    "sumtrans2.fillna(0,inplace=True)"
   ]
  },
  {
   "cell_type": "markdown",
   "id": "beautiful-colombia",
   "metadata": {},
   "source": [
    "**Changing Feature Data Types**\n",
    "<br>I noticed that the numdebits and numcredits features contain float values. The values in these features would better be represented as integer values. For example, it's not possible to have 1.5 or 3.75 debits in a day. "
   ]
  },
  {
   "cell_type": "code",
   "execution_count": 1597,
   "id": "proprietary-mounting",
   "metadata": {},
   "outputs": [],
   "source": [
    "# Change numdebits and numcredits data type to integer\n",
    "sumtrans2['numdebits'] = sumtrans2['numdebits'].astype(int)\n",
    "sumtrans2['numcredits'] = sumtrans2['numcredits'].astype(int)"
   ]
  },
  {
   "cell_type": "markdown",
   "id": "charming-contractor",
   "metadata": {},
   "source": [
    "**Add New Date Features**"
   ]
  },
  {
   "cell_type": "code",
   "execution_count": 1598,
   "id": "advanced-caution",
   "metadata": {},
   "outputs": [],
   "source": [
    "# Convert transdate feature from string to datetime\n",
    "sumtrans2[\"transdate\"] = pd.to_datetime(sumtrans2['transdate'])\n",
    "\n",
    "# Create new date related features\n",
    "transmonth = sumtrans2[\"transdate\"].dt.month\n",
    "transday = sumtrans2[\"transdate\"].dt.day\n",
    "\n",
    "# Insert new features into dataset\n",
    "sumtrans2.insert(1,\"transmonth\",transmonth)\n",
    "sumtrans2.insert(2,\"transday\",transday)\n"
   ]
  },
  {
   "cell_type": "markdown",
   "id": "hindu-meditation",
   "metadata": {},
   "source": [
    "**Add New Transaction Index Feature**"
   ]
  },
  {
   "cell_type": "code",
   "execution_count": 1599,
   "id": "adopted-salon",
   "metadata": {},
   "outputs": [],
   "source": [
    "# Store transaction index values in variable\n",
    "transindex = pd.Series(sumtrans2.index)\n",
    "\n",
    "# Insert new feature into dataset\n",
    "sumtrans2.insert(1,\"transindex\",transindex)"
   ]
  },
  {
   "cell_type": "markdown",
   "id": "thrown-comfort",
   "metadata": {},
   "source": [
    "**Add New Cash Balance Feature**\n",
    "<br>Below I added a new feature with shows a accumlating balance of the sumdiff feature"
   ]
  },
  {
   "cell_type": "code",
   "execution_count": 1600,
   "id": "advanced-response",
   "metadata": {},
   "outputs": [],
   "source": [
    "cashbalance = sumtrans2['sumdiff'].cumsum()\n",
    "\n",
    "# Insert new feature into dataset\n",
    "sumtrans2.insert(10,\"cashbalance\",cashbalance)"
   ]
  },
  {
   "cell_type": "markdown",
   "id": "immune-perfume",
   "metadata": {},
   "source": [
    "**Preview of Sumtrans2 Dataset**\n",
    "<br>We should now have a more feature rich and appropriate dataset to work with."
   ]
  },
  {
   "cell_type": "code",
   "execution_count": 1601,
   "id": "optional-license",
   "metadata": {},
   "outputs": [
    {
     "data": {
      "text/html": [
       "<div>\n",
       "<style scoped>\n",
       "    .dataframe tbody tr th:only-of-type {\n",
       "        vertical-align: middle;\n",
       "    }\n",
       "\n",
       "    .dataframe tbody tr th {\n",
       "        vertical-align: top;\n",
       "    }\n",
       "\n",
       "    .dataframe thead th {\n",
       "        text-align: right;\n",
       "    }\n",
       "</style>\n",
       "<table border=\"1\" class=\"dataframe\">\n",
       "  <thead>\n",
       "    <tr style=\"text-align: right;\">\n",
       "      <th></th>\n",
       "      <th>transdate</th>\n",
       "      <th>transindex</th>\n",
       "      <th>transmonth</th>\n",
       "      <th>transday</th>\n",
       "      <th>numtranstypes</th>\n",
       "      <th>numdebits</th>\n",
       "      <th>numcredits</th>\n",
       "      <th>sumdebits</th>\n",
       "      <th>sumcredits</th>\n",
       "      <th>sumdiff</th>\n",
       "      <th>cashbalance</th>\n",
       "      <th>cashresult</th>\n",
       "      <th>cashscore</th>\n",
       "    </tr>\n",
       "  </thead>\n",
       "  <tbody>\n",
       "    <tr>\n",
       "      <th>0</th>\n",
       "      <td>2020-01-02</td>\n",
       "      <td>0</td>\n",
       "      <td>1</td>\n",
       "      <td>2</td>\n",
       "      <td>1</td>\n",
       "      <td>2</td>\n",
       "      <td>0</td>\n",
       "      <td>573.6</td>\n",
       "      <td>0.0</td>\n",
       "      <td>-573.6</td>\n",
       "      <td>-573.6</td>\n",
       "      <td>0</td>\n",
       "      <td>0</td>\n",
       "    </tr>\n",
       "    <tr>\n",
       "      <th>1</th>\n",
       "      <td>2020-01-03</td>\n",
       "      <td>1</td>\n",
       "      <td>1</td>\n",
       "      <td>3</td>\n",
       "      <td>2</td>\n",
       "      <td>3</td>\n",
       "      <td>1</td>\n",
       "      <td>236.6</td>\n",
       "      <td>565.0</td>\n",
       "      <td>328.4</td>\n",
       "      <td>-245.2</td>\n",
       "      <td>1</td>\n",
       "      <td>2</td>\n",
       "    </tr>\n",
       "    <tr>\n",
       "      <th>2</th>\n",
       "      <td>2020-01-06</td>\n",
       "      <td>2</td>\n",
       "      <td>1</td>\n",
       "      <td>6</td>\n",
       "      <td>1</td>\n",
       "      <td>0</td>\n",
       "      <td>1</td>\n",
       "      <td>0.0</td>\n",
       "      <td>2290.0</td>\n",
       "      <td>2290.0</td>\n",
       "      <td>2044.8</td>\n",
       "      <td>1</td>\n",
       "      <td>5</td>\n",
       "    </tr>\n",
       "    <tr>\n",
       "      <th>3</th>\n",
       "      <td>2020-01-07</td>\n",
       "      <td>3</td>\n",
       "      <td>1</td>\n",
       "      <td>7</td>\n",
       "      <td>2</td>\n",
       "      <td>0</td>\n",
       "      <td>2</td>\n",
       "      <td>0.0</td>\n",
       "      <td>2540.0</td>\n",
       "      <td>2540.0</td>\n",
       "      <td>4584.8</td>\n",
       "      <td>1</td>\n",
       "      <td>5</td>\n",
       "    </tr>\n",
       "    <tr>\n",
       "      <th>4</th>\n",
       "      <td>2020-01-09</td>\n",
       "      <td>4</td>\n",
       "      <td>1</td>\n",
       "      <td>9</td>\n",
       "      <td>1</td>\n",
       "      <td>1</td>\n",
       "      <td>0</td>\n",
       "      <td>1000.0</td>\n",
       "      <td>0.0</td>\n",
       "      <td>-1000.0</td>\n",
       "      <td>3584.8</td>\n",
       "      <td>0</td>\n",
       "      <td>0</td>\n",
       "    </tr>\n",
       "  </tbody>\n",
       "</table>\n",
       "</div>"
      ],
      "text/plain": [
       "   transdate  transindex  transmonth  transday  numtranstypes  numdebits  \\\n",
       "0 2020-01-02           0           1         2              1          2   \n",
       "1 2020-01-03           1           1         3              2          3   \n",
       "2 2020-01-06           2           1         6              1          0   \n",
       "3 2020-01-07           3           1         7              2          0   \n",
       "4 2020-01-09           4           1         9              1          1   \n",
       "\n",
       "   numcredits  sumdebits  sumcredits  sumdiff  cashbalance  cashresult  \\\n",
       "0           0      573.6         0.0   -573.6       -573.6           0   \n",
       "1           1      236.6       565.0    328.4       -245.2           1   \n",
       "2           1        0.0      2290.0   2290.0       2044.8           1   \n",
       "3           2        0.0      2540.0   2540.0       4584.8           1   \n",
       "4           0     1000.0         0.0  -1000.0       3584.8           0   \n",
       "\n",
       "   cashscore  \n",
       "0          0  \n",
       "1          2  \n",
       "2          5  \n",
       "3          5  \n",
       "4          0  "
      ]
     },
     "execution_count": 1601,
     "metadata": {},
     "output_type": "execute_result"
    }
   ],
   "source": [
    "sumtrans2.head()"
   ]
  },
  {
   "cell_type": "markdown",
   "id": "spanish-growth",
   "metadata": {},
   "source": [
    "### Model Exploration and Selection ###"
   ]
  },
  {
   "cell_type": "markdown",
   "id": "advance-pollution",
   "metadata": {},
   "source": [
    "I'd like to explore the dataset to determine the most appropriate ML algorithms that can be applied to determine the credit risk that TacT represents; primarily from a cashflow perspective. Looking at the features of the dataset, I believe that the cashbalance feature can serve as the outcome value using linear regression analysis. Additionally, the cashresult feature can serve as the outcome value using logistic regression analysis. The plots used in this section were prepared with help from Jupyter Notebooks shared in the Statistics and Statistical Mining module **(Sadawi, 2021)**."
   ]
  },
  {
   "cell_type": "markdown",
   "id": "introductory-scientist",
   "metadata": {},
   "source": [
    "**Linear Regression**\n",
    "<br>Logistic regression is a classification ML algorithm typically used in developing credit risk models. However, I'm curious to explore whether a regression ML algorithm could be applicable from a perspective of predicting cash balance; particularly in determining whether a positive linear relationship exists between an increase in transaction days and accumulated cash balance. This could indicate to a lender that TacT is generating more cash than it is spending and has the ability to afford loan repayments."
   ]
  },
  {
   "cell_type": "markdown",
   "id": "super-rendering",
   "metadata": {},
   "source": [
    "**Select Predictor and Outcome Variables**"
   ]
  },
  {
   "cell_type": "code",
   "execution_count": 1654,
   "id": "southeast-messaging",
   "metadata": {},
   "outputs": [],
   "source": [
    "# the dataset index values are selected as the independent x variables\n",
    "x = sumtrans2['transindex']\n",
    "# cashbalance figures are selected as the dependent y variables\n",
    "y = sumtrans2['cashbalance']"
   ]
  },
  {
   "cell_type": "markdown",
   "id": "loved-swing",
   "metadata": {},
   "source": [
    "Below we define a function to easily plot a scatter graph of our x and y variables."
   ]
  },
  {
   "cell_type": "code",
   "execution_count": 1657,
   "id": "promotional-marble",
   "metadata": {},
   "outputs": [],
   "source": [
    "def scatter(x,y,xlabel,ylabel,marker='x',label=y.name):\n",
    "    \"\"\"Returns a scatter plot of x and y variables\"\"\"\n",
    "    plt.figure(figsize=(5,5), dpi=100)\n",
    "    plt.plot(x, y, marker, label=label)\n",
    "    plt.xlabel(xlabel) \n",
    "    plt.ylabel(ylabel) \n",
    "    plt.legend()\n",
    "    return plt.show()"
   ]
  },
  {
   "cell_type": "markdown",
   "id": "cooked-enterprise",
   "metadata": {},
   "source": [
    "**Plot Scatter Graph**\n",
    "<br>The results of the below scatter graph suggests a positive correlation exists between the independent x and dependent y variables. This means that only considering TacT's 2020 transactions days, the company's accumulated cash steadily increased from less than 0 to over $35k during a 12 month period. This could suggest good cashflow management and the ability to handle payment obligations. No correlation would essentially represent a stable cash balance or average performance. Finally, if the results had show a negative correlation this would suggest a decreasing cash balance and poor cashflow management. "
   ]
  },
  {
   "cell_type": "code",
   "execution_count": 1658,
   "id": "loved-commercial",
   "metadata": {},
   "outputs": [
    {
     "data": {
      "image/png": "[encoded data removed]",
      "text/plain": [
       "<Figure size 500x500 with 1 Axes>"
      ]
     },
     "metadata": {
      "needs_background": "light"
     },
     "output_type": "display_data"
    }
   ],
   "source": [
    "scatter(x,y,x.name,y.name)"
   ]
  },
  {
   "cell_type": "markdown",
   "id": "commercial-message",
   "metadata": {},
   "source": [
    "**Model Linear Regression Relationship**\n",
    "<br>Below we model the linear relationship between the x and y values using the algebraic expression of y = a + bx."
   ]
  },
  {
   "cell_type": "code",
   "execution_count": 1650,
   "id": "typical-taylor",
   "metadata": {},
   "outputs": [],
   "source": [
    "b, a, r_value, p_value, std_err = linregress(x, y)"
   ]
  },
  {
   "cell_type": "markdown",
   "id": "contrary-cloud",
   "metadata": {},
   "source": [
    "The below equation shows that with every transaction day (X) during 2020, TacT's cash balance increased by US255 (B). The intercept value of -US344 (A) is present because the first two transaction days of 2020 result in a negative cash balance of -US573.6 and -US245.2 respectively. This is because TacT's 2019 ending balance has been excluded from the dataset. This approach demonstrates that the business is able to rely on cash generated from it's operations versus reserves in order to meet its obligations."
   ]
  },
  {
   "cell_type": "code",
   "execution_count": 1651,
   "id": "relevant-montana",
   "metadata": {},
   "outputs": [
    {
     "name": "stdout",
     "output_type": "stream",
     "text": [
      "The linear relationship between X and Y values can summed up in the following equation;\n",
      "Y = -344.7835223880684 or A + 255.2459658848615 or B * X\n"
     ]
    }
   ],
   "source": [
    "print(\"The linear relationship between X and Y values can summed up in the following equation;\")\n",
    "print(\"Y\", \"=\", str(a), \"or A\", \"+\", str(b), \"or B\", \"*\", \"X\")"
   ]
  },
  {
   "cell_type": "markdown",
   "id": "statistical-meditation",
   "metadata": {},
   "source": [
    "**Plot Linear Equation as Line of Best Fit**\n",
    "<br>Below we store our defined linear equation in the yhat variable. We pass this variable to our scatter function and plot the equation as a line of best fit."
   ]
  },
  {
   "cell_type": "code",
   "execution_count": 1659,
   "id": "proved-twins",
   "metadata": {},
   "outputs": [
    {
     "data": {
      "image/png": "[encoded data removed]",
      "text/plain": [
       "<Figure size 500x500 with 1 Axes>"
      ]
     },
     "metadata": {
      "needs_background": "light"
     },
     "output_type": "display_data"
    }
   ],
   "source": [
    "yhat = a + b*x\n",
    "scatter(x,yhat,x.name,y.name, marker='y',label='fitted line')"
   ]
  },
  {
   "cell_type": "markdown",
   "id": "approved-organizer",
   "metadata": {},
   "source": [
    "**Standardize Variables**\n",
    "<br>Below we define a function **(Kenyatta, 2021)** to standardize our x and y variables; which currently have very different scale ranges. x values range from 0 to 133 whereas y values range from -573.6 to 36,001.85. Standardizing these variables will provide us with more meaningful metrics later on including a normalized root mean square (RMSE) statistic."
   ]
  },
  {
   "cell_type": "code",
   "execution_count": 1660,
   "id": "shaped-overall",
   "metadata": {},
   "outputs": [],
   "source": [
    "def standardize(values):\n",
    "    \"\"\"Returns a copy of array with standardized values\"\"\"\n",
    "    try:\n",
    "        mean = np.mean(values)\n",
    "        std = np.std(values)\n",
    "        centreValues = values.apply(lambda v: (v-mean)/std)\n",
    "        return centreValues\n",
    "    except ValueError as ve:\n",
    "        print('Feature values passed to standardize function should contain only one element')"
   ]
  },
  {
   "cell_type": "code",
   "execution_count": 1661,
   "id": "received-train",
   "metadata": {},
   "outputs": [],
   "source": [
    "# WARNING! We are replacing x and y variables defined above\n",
    "# Standardize x and y variables\n",
    "x = standardize(x)\n",
    "y = standardize(y)"
   ]
  },
  {
   "cell_type": "code",
   "execution_count": 1662,
   "id": "chicken-apparel",
   "metadata": {},
   "outputs": [],
   "source": [
    "# WARNING! We are replacing b, a, r_value, p_value and std_err variables defined above\n",
    "# Create standardized linear regression model\n",
    "b, a, r_value, p_value, std_err = linregress(x, y)"
   ]
  },
  {
   "cell_type": "code",
   "execution_count": 1663,
   "id": "great-renaissance",
   "metadata": {},
   "outputs": [
    {
     "name": "stdout",
     "output_type": "stream",
     "text": [
      "The standardized linear relationship between X and Y values can summed up in the following equation;\n",
      "Y = 2.6935070140152357e-18 or A + 0.9492036267893249 or B * X\n"
     ]
    }
   ],
   "source": [
    "print(\"The standardized linear relationship between X and Y values can summed up in the following equation;\")\n",
    "print(\"Y\", \"=\", str(a), \"or A\", \"+\", str(b), \"or B\", \"*\", \"X\")"
   ]
  },
  {
   "cell_type": "markdown",
   "id": "complete-education",
   "metadata": {},
   "source": [
    "**Plot Line of Best Fit Against Actuals**\n",
    "<br>The linear equation defined above is below plotted to visualize the line of best fit. Visually, we can see that the fitted line generally captures the trajectory of the increasing cash balances. However, there appears to be several large differences between the actual and predicted results."
   ]
  },
  {
   "cell_type": "code",
   "execution_count": 1664,
   "id": "earlier-privilege",
   "metadata": {},
   "outputs": [
    {
     "data": {
      "image/png": "[encoded data removed]",
      "text/plain": [
       "<Figure size 500x500 with 1 Axes>"
      ]
     },
     "metadata": {
      "needs_background": "light"
     },
     "output_type": "display_data"
    }
   ],
   "source": [
    "plt.figure(figsize=(5,5), dpi=100)\n",
    "plt.plot(x, y, 'x', label='cash balance')\n",
    "plt.plot(x, a + b*x, 'y', label='fitted line')\n",
    "plt.xlabel('Transaction Index') \n",
    "plt.ylabel('Cash Balance') \n",
    "plt.legend()\n",
    "plt.show()"
   ]
  },
  {
   "cell_type": "markdown",
   "id": "compact-exhibit",
   "metadata": {},
   "source": [
    "**Key Statistical Measures**\n",
    "<br>Below we commute key statistics that help us better understand the linear relationship defined above."
   ]
  },
  {
   "cell_type": "markdown",
   "id": "animated-minority",
   "metadata": {},
   "source": [
    "<u>Correlation</u>\n",
    "<br>There is a strong positive correlation between x and y variable denoted by an r value of 0.95. Furthermore the coeffecient of determination or r squared suggest that 90% of the variations in variable x causes variation to occur in variable y. "
   ]
  },
  {
   "cell_type": "code",
   "execution_count": 1665,
   "id": "raising-plaza",
   "metadata": {},
   "outputs": [
    {
     "name": "stdout",
     "output_type": "stream",
     "text": [
      "Correlation co-effecient (r value): 0.9492036267893249\n",
      "Coeffecient of determination (r squared): 0.900987525110008\n"
     ]
    }
   ],
   "source": [
    "#Print correlation coeffecient\n",
    "print(\"Correlation co-effecient (r value):\", r_value)\n",
    "print(\"Coeffecient of determination (r squared):\", r_value**2)"
   ]
  },
  {
   "cell_type": "markdown",
   "id": "curious-burning",
   "metadata": {},
   "source": [
    "The relationships between our x and y variables in addition to the other dataset features are captured in the correlation matrix vizualized below."
   ]
  },
  {
   "cell_type": "code",
   "execution_count": 1666,
   "id": "beautiful-aquarium",
   "metadata": {},
   "outputs": [
    {
     "data": {
      "image/png": "[encoded data removed]",
      "text/plain": [
       "<Figure size 648x648 with 2 Axes>"
      ]
     },
     "metadata": {
      "needs_background": "light"
     },
     "output_type": "display_data"
    }
   ],
   "source": [
    "plt.figure(figsize=(9,9))\n",
    "sns.heatmap(np.abs(sumtrans2.corr()), annot=True, cmap=\"viridis\", fmt=\"0.2f\");"
   ]
  },
  {
   "cell_type": "markdown",
   "id": "applicable-montgomery",
   "metadata": {},
   "source": [
    "<u>Errors</u>\n",
    "<br>Below we store our y predictions in the yhat variable. We then calculate the errors or residuals which are our y variables minus our y predictions. The errors are then squared (SE) and averaged (MSE) before find their square root (RMSE). One way to assess how well a regression model fits a dataset is to calculate the root mean square error, which tells us the average distance between the predicted values from the model and the actual values in the dataset **(Zach, 2021)**. An RMSE value of 0 would indicate the model perfectly fits the data and 1 would indicate the opposite. "
   ]
  },
  {
   "cell_type": "code",
   "execution_count": 1667,
   "id": "collaborative-tiffany",
   "metadata": {},
   "outputs": [],
   "source": [
    "# Define variable to store predictions\n",
    "yhat = a + b * x\n",
    "# Store residual errors\n",
    "errors = y - yhat\n",
    "# Calculate Squared Error\n",
    "SE = errors**2\n",
    "# Calculate Mean Squared Error\n",
    "MSE = np.mean(SE)\n",
    "# Calculate Root Mean Squared Error\n",
    "RMSE = np.sqrt(MSE)"
   ]
  },
  {
   "cell_type": "markdown",
   "id": "bottom-applicant",
   "metadata": {},
   "source": [
    "The RMSE score of 0.31 indicates that our linear regression model using one predictor fits the data very well but not 100% accurately."
   ]
  },
  {
   "cell_type": "code",
   "execution_count": 1615,
   "id": "standard-criminal",
   "metadata": {
    "scrolled": true
   },
   "outputs": [
    {
     "name": "stdout",
     "output_type": "stream",
     "text": [
      "Root mean squared error (RMSE): 0.314662477728108\n"
     ]
    }
   ],
   "source": [
    "print(\"Root mean squared error (RMSE):\", RMSE)"
   ]
  },
  {
   "cell_type": "markdown",
   "id": "visible-rocket",
   "metadata": {},
   "source": [
    "Below we can also obtain summary statistics using the statsmodel.api library. Not only are our r and r squared values high, we also achieve a p value of 0.0000 for the transindex feature. This means that the transindex feature as our x independent variable is highly important in predicting cashbalance as our y outcome variable. We can also observe that the 95% confidence interval is quite small indicating minimal uncertainty about the transindex coeffecient (r value)."
   ]
  },
  {
   "cell_type": "code",
   "execution_count": 1616,
   "id": "raised-facility",
   "metadata": {},
   "outputs": [
    {
     "data": {
      "text/html": [
       "<table class=\"simpletable\">\n",
       "<tr>\n",
       "          <td>Model:</td>                 <td>OLS</td>       <td>Adj. R-squared (uncentered):</td>   <td>0.900</td> \n",
       "</tr>\n",
       "<tr>\n",
       "    <td>Dependent Variable:</td>      <td>cashbalance</td>               <td>AIC:</td>              <td>72.3993</td>\n",
       "</tr>\n",
       "<tr>\n",
       "           <td>Date:</td>          <td>2021-09-05 11:25</td>             <td>BIC:</td>              <td>75.2971</td>\n",
       "</tr>\n",
       "<tr>\n",
       "     <td>No. Observations:</td>           <td>134</td>              <td>Log-Likelihood:</td>        <td>-35.200</td>\n",
       "</tr>\n",
       "<tr>\n",
       "         <td>Df Model:</td>                <td>1</td>                <td>F-statistic:</td>           <td>1210.</td> \n",
       "</tr>\n",
       "<tr>\n",
       "       <td>Df Residuals:</td>             <td>133</td>            <td>Prob (F-statistic):</td>     <td>1.19e-68</td>\n",
       "</tr>\n",
       "<tr>\n",
       "  <td>R-squared (uncentered):</td>       <td>0.901</td>                 <td>Scale:</td>            <td>0.099757</td>\n",
       "</tr>\n",
       "</table>\n",
       "<table class=\"simpletable\">\n",
       "<tr>\n",
       "       <td></td>       <th>Coef.</th> <th>Std.Err.</th>    <th>t</th>     <th>P>|t|</th> <th>[0.025</th> <th>0.975]</th>\n",
       "</tr>\n",
       "<tr>\n",
       "  <th>transindex</th> <td>0.9492</td>  <td>0.0273</td>  <td>34.7889</td> <td>0.0000</td> <td>0.8952</td> <td>1.0032</td>\n",
       "</tr>\n",
       "</table>\n",
       "<table class=\"simpletable\">\n",
       "<tr>\n",
       "     <td>Omnibus:</td>     <td>2.577</td>  <td>Durbin-Watson:</td>   <td>0.657</td>\n",
       "</tr>\n",
       "<tr>\n",
       "  <td>Prob(Omnibus):</td>  <td>0.276</td> <td>Jarque-Bera (JB):</td> <td>2.088</td>\n",
       "</tr>\n",
       "<tr>\n",
       "       <td>Skew:</td>     <td>-0.281</td>     <td>Prob(JB):</td>     <td>0.352</td>\n",
       "</tr>\n",
       "<tr>\n",
       "     <td>Kurtosis:</td>    <td>3.239</td>  <td>Condition No.:</td>     <td>1</td>  \n",
       "</tr>\n",
       "</table>"
      ],
      "text/plain": [
       "<class 'statsmodels.iolib.summary2.Summary'>\n",
       "\"\"\"\n",
       "                       Results: Ordinary least squares\n",
       "==============================================================================\n",
       "Model:                  OLS              Adj. R-squared (uncentered): 0.900   \n",
       "Dependent Variable:     cashbalance      AIC:                         72.3993 \n",
       "Date:                   2021-09-05 11:25 BIC:                         75.2971 \n",
       "No. Observations:       134              Log-Likelihood:              -35.200 \n",
       "Df Model:               1                F-statistic:                 1210.   \n",
       "Df Residuals:           133              Prob (F-statistic):          1.19e-68\n",
       "R-squared (uncentered): 0.901            Scale:                       0.099757\n",
       "----------------------------------------------------------------------------------\n",
       "                  Coef.      Std.Err.        t        P>|t|      [0.025     0.975]\n",
       "----------------------------------------------------------------------------------\n",
       "transindex        0.9492       0.0273     34.7889     0.0000     0.8952     1.0032\n",
       "------------------------------------------------------------------------------\n",
       "Omnibus:                  2.577             Durbin-Watson:               0.657\n",
       "Prob(Omnibus):            0.276             Jarque-Bera (JB):            2.088\n",
       "Skew:                     -0.281            Prob(JB):                    0.352\n",
       "Kurtosis:                 3.239             Condition No.:               1    \n",
       "==============================================================================\n",
       "\n",
       "\"\"\""
      ]
     },
     "execution_count": 1616,
     "metadata": {},
     "output_type": "execute_result"
    }
   ],
   "source": [
    "mod = sm.OLS(y,x)\n",
    "model = mod.fit()\n",
    "model.summary2()"
   ]
  },
  {
   "cell_type": "markdown",
   "id": "greater-subdivision",
   "metadata": {},
   "source": [
    "Below we create a scatter plot of the errors. The errors appear to equally and randomly plotted around the center line. This indicates that regression is an appropriate technique for modelling the data. - DRY"
   ]
  },
  {
   "cell_type": "code",
   "execution_count": 1617,
   "id": "interpreted-floating",
   "metadata": {},
   "outputs": [
    {
     "data": {
      "image/png": "[encoded data removed]",
      "text/plain": [
       "<Figure size 500x500 with 1 Axes>"
      ]
     },
     "metadata": {
      "needs_background": "light"
     },
     "output_type": "display_data"
    }
   ],
   "source": [
    "# Plot residuals\n",
    "plt.figure(figsize=(5,5), dpi=100)\n",
    "plt.scatter(range(len(errors)),errors)\n",
    "plt.axhline(y=0, color='r', linestyle='-')\n",
    "plt.xlabel('Transaction Index') \n",
    "plt.ylabel('Errors') \n",
    "plt.show()"
   ]
  },
  {
   "cell_type": "markdown",
   "id": "novel-mechanics",
   "metadata": {},
   "source": [
    "The plot below assumes a normal or gaussian distribution. This is what we would expect to see when a regressional model accurately fits the data."
   ]
  },
  {
   "cell_type": "code",
   "execution_count": 1618,
   "id": "enormous-aquatic",
   "metadata": {},
   "outputs": [
    {
     "data": {
      "image/png": "[encoded data removed]",
      "text/plain": [
       "<Figure size 500x500 with 1 Axes>"
      ]
     },
     "metadata": {
      "needs_background": "light"
     },
     "output_type": "display_data"
    }
   ],
   "source": [
    "# Plot errors\n",
    "plt.figure(figsize=(5,5), dpi=100)\n",
    "plt.hist(error)\n",
    "plt.show()"
   ]
  },
  {
   "cell_type": "markdown",
   "id": "super-nigeria",
   "metadata": {},
   "source": [
    "**Logistic Regression**\n",
    "<br>Logistic regression is typically used to predict the probability of default by a business using financial ratios and matrics. However, with this assignment the dataset we're working with is better suited towards understanding and predicting cashflow. In fact some research I came across proposed a cashflow based approach to estimating default probabilities **(Cifuentes  et al 2013)**. Below, we will explore a basic logistic regression model using cashresult as the outcome Y variable and numdebits as the independent X variable. Remember with the Y variable 0 represents a negative cash result after summing debits and credits while 1 representing a positive cashflow result."
   ]
  },
  {
   "cell_type": "markdown",
   "id": "variable-disclosure",
   "metadata": {},
   "source": [
    "**Plot X and Y Variables**\n",
    "<br>Prior to modeling the data using logistic regression, we will explore and vizualize the Y and X variables we'll be working with. "
   ]
  },
  {
   "cell_type": "code",
   "execution_count": 1619,
   "id": "adapted-albany",
   "metadata": {},
   "outputs": [],
   "source": [
    "def unique_count_barchart(values):\n",
    "    \"\"\"Returns a bar chart displaying count of each unique value in dataset feature\"\"\"\n",
    "    unique_labels = values.unique()\n",
    "    unique_labels_pos = list(range(len(unique_labels)))\n",
    "    count_values = values.value_counts()\n",
    "    plt.figure(1, figsize=(5, 5))\n",
    "    plt.bar(unique_labels_pos, count_values)\n",
    "    plt.xlabel(values.name)\n",
    "    plt.ylabel(\"Count\")\n",
    "    plt.title(\"Count of Unique Values\")\n",
    "    plt.xticks(unique_labels_pos)\n",
    "    return plt.show()"
   ]
  },
  {
   "cell_type": "markdown",
   "id": "unique-korea",
   "metadata": {},
   "source": [
    "The below bar chart shows that TacT made zero debit transactions on approximately 45 or 33% of its total transaction days in 2020 (i.e 134). The business made 1 debit transaction on approximately 42 or 31% of its total transaction days in 2020. This means that 2 out of 3 transaction days, TacT is either making 1 or no debit transactions. I would expect that this would differ for businesses of different sizes and across different industries."
   ]
  },
  {
   "cell_type": "code",
   "execution_count": 1620,
   "id": "eight-expert",
   "metadata": {
    "scrolled": false
   },
   "outputs": [
    {
     "data": {
      "image/png": "[encoded data removed]",
      "text/plain": [
       "<Figure size 360x360 with 1 Axes>"
      ]
     },
     "metadata": {
      "needs_background": "light"
     },
     "output_type": "display_data"
    }
   ],
   "source": [
    "unique_count_barchart(sumtrans2['numdebits'])"
   ]
  },
  {
   "cell_type": "markdown",
   "id": "educated-surname",
   "metadata": {},
   "source": [
    "The below bar chart shows that 70 or 52% of transaction days for TacT in 2021 resulted in more cash being spent than received on it's bank account. The remaining 64 or 48% of transaction days result in a positive cashflow result."
   ]
  },
  {
   "cell_type": "code",
   "execution_count": 1621,
   "id": "endless-samuel",
   "metadata": {},
   "outputs": [
    {
     "data": {
      "image/png": "[encoded data removed]",
      "text/plain": [
       "<Figure size 360x360 with 1 Axes>"
      ]
     },
     "metadata": {
      "needs_background": "light"
     },
     "output_type": "display_data"
    }
   ],
   "source": [
    "unique_count_barchart(sumtrans2['cashresult'])"
   ]
  },
  {
   "cell_type": "markdown",
   "id": "humanitarian-massage",
   "metadata": {},
   "source": [
    "**Model Linear Relationship**\n",
    "<br>Now that we've briefly explored the data at a high level, we will proceed with modelling. Logistic regression and linear regression both start with modelling the relationship between the independent x and outcome y variables. "
   ]
  },
  {
   "cell_type": "code",
   "execution_count": 1622,
   "id": "naughty-evans",
   "metadata": {},
   "outputs": [],
   "source": [
    "# Define x and y variables\n",
    "x = sumtrans2['numdebits'] \n",
    "y = sumtrans2['cashresult']"
   ]
  },
  {
   "cell_type": "code",
   "execution_count": 1623,
   "id": "invalid-developer",
   "metadata": {},
   "outputs": [],
   "source": [
    "# Define linear model a and b values\n",
    "b, a, r_value, p_value, std_err = linregress(x, y)"
   ]
  },
  {
   "cell_type": "markdown",
   "id": "demanding-sight",
   "metadata": {},
   "source": [
    "**Define Linear and Sigmoid Functions**\n",
    "<br>Logistic regression makes use of the sigmoid function to convert predicted Y outcome variables into probabilities between 1 and 0."
   ]
  },
  {
   "cell_type": "code",
   "execution_count": 1624,
   "id": "beginning-madonna",
   "metadata": {},
   "outputs": [],
   "source": [
    "# Define sigmoid function\n",
    "def sigmoid(x):\n",
    "    \"\"\"Convert the output produced by a linear model \n",
    "    into a probability between 0 and 1\"\"\"\n",
    "    return 1.0/(1 + np.exp(-x))"
   ]
  },
  {
   "cell_type": "code",
   "execution_count": 1625,
   "id": "beautiful-seafood",
   "metadata": {},
   "outputs": [],
   "source": [
    "# Define linear model function\n",
    "def linear_model(x):\n",
    "    \"\"\"Plugs x independent value into linear model \n",
    "    equation and returns y dependent value\"\"\"\n",
    "    return b * x + a"
   ]
  },
  {
   "cell_type": "markdown",
   "id": "built-sociology",
   "metadata": {},
   "source": [
    "**Generate Y Probability Values**\n",
    "<br>Below we generate Y probability values by passing X values through the linear and sigmoid functions."
   ]
  },
  {
   "cell_type": "code",
   "execution_count": 1626,
   "id": "robust-background",
   "metadata": {},
   "outputs": [],
   "source": [
    "y_linear = linear_model(x)\n",
    "y_logistic = sigmoid(y_linear)"
   ]
  },
  {
   "cell_type": "markdown",
   "id": "touched-casino",
   "metadata": {},
   "source": [
    "**Plot Probabilities Against Original Data**\n",
    "<br>Below we plot the Y probabilities against the original Y values. If the model fits the data accurately, we would expect the plotted probabilities to assume an S shaped curve. Below we can see that this is not the case. If anything the plotted probabilities assume a linear relationship."
   ]
  },
  {
   "cell_type": "code",
   "execution_count": 1627,
   "id": "unavailable-parcel",
   "metadata": {},
   "outputs": [
    {
     "data": {
      "image/png": "[encoded data removed]",
      "text/plain": [
       "<Figure size 648x648 with 1 Axes>"
      ]
     },
     "metadata": {
      "needs_background": "light"
     },
     "output_type": "display_data"
    }
   ],
   "source": [
    "plt.figure(1, figsize=(9, 9))\n",
    "# Plot original Y values\n",
    "plt.scatter(x, y, color='blue', label = 'Original Data', zorder=20)\n",
    "# Plot probability Y values\n",
    "plt.scatter(x, y_logistic, color='red', label = 'Probability', zorder=20)\n",
    "plt.plot(x, y_logistic, color='red', label = 'Probability', zorder=20)\n",
    "# Plot cut off point\n",
    "plt.axvline(x=4,ymin=0,ymax=1,linewidth=1, color='green')\n",
    "plt.axhline(y=0.5,xmin=0,xmax=6, label='Cutoff at 0.5', linewidth=1, color='green')\n",
    "# Plot X and Y labels\n",
    "plt.ylabel('Cashflow Result')\n",
    "plt.xlabel('Num of Debit Transactions')\n",
    "# Plot graph\n",
    "plt.legend()\n",
    "plt.grid()\n",
    "plt.show()"
   ]
  },
  {
   "cell_type": "markdown",
   "id": "defined-soundtrack",
   "metadata": {},
   "source": [
    "**Key Statistical Measures**"
   ]
  },
  {
   "cell_type": "markdown",
   "id": "hairy-metabolism",
   "metadata": {},
   "source": [
    "<u>Univariate Logistic Regression</u>\n",
    "<br>The below pseudo r-squared value of 0.093 in our univariate logistic regression model is very low. This suggest that only 9% of the variation in numdebits as our x independent variable determines the cashresult. We also have high AIC and BIC values. This suggests that our univariate model is not the best fit."
   ]
  },
  {
   "cell_type": "code",
   "execution_count": 1628,
   "id": "african-specification",
   "metadata": {},
   "outputs": [
    {
     "name": "stdout",
     "output_type": "stream",
     "text": [
      "Optimization terminated successfully.\n",
      "         Current function value: 0.626752\n",
      "         Iterations 5\n"
     ]
    }
   ],
   "source": [
    "# building the model and fitting the data \n",
    "log_reg = sm.Logit(y, x).fit() "
   ]
  },
  {
   "cell_type": "code",
   "execution_count": 1629,
   "id": "binary-dispatch",
   "metadata": {
    "scrolled": true
   },
   "outputs": [
    {
     "name": "stdout",
     "output_type": "stream",
     "text": [
      "                        Results: Logit\n",
      "===============================================================\n",
      "Model:              Logit            Pseudo R-squared: 0.093   \n",
      "Dependent Variable: cashresult       AIC:              169.9695\n",
      "Date:               2021-09-05 11:25 BIC:              172.8673\n",
      "No. Observations:   134              Log-Likelihood:   -83.985 \n",
      "Df Model:           0                LL-Null:          -92.643 \n",
      "Df Residuals:       133              LLR p-value:      nan     \n",
      "Converged:          1.0000           Scale:            1.0000  \n",
      "No. Iterations:     5.0000                                     \n",
      "----------------------------------------------------------------\n",
      "             Coef.   Std.Err.     z     P>|z|    [0.025   0.975]\n",
      "----------------------------------------------------------------\n",
      "numdebits   -0.4565    0.1228  -3.7178  0.0002  -0.6971  -0.2158\n",
      "===============================================================\n",
      "\n"
     ]
    }
   ],
   "source": [
    "# printing the summary table \n",
    "print(log_reg.summary2())"
   ]
  },
  {
   "cell_type": "markdown",
   "id": "compatible-ladder",
   "metadata": {},
   "source": [
    "<u>Multivariate Logistic Regression</u>\n",
    "<br>I'm curious to see if we can obtain a better performing model by utilizing multiple independent variables."
   ]
  },
  {
   "cell_type": "code",
   "execution_count": 1630,
   "id": "unusual-position",
   "metadata": {},
   "outputs": [],
   "source": [
    "X = sumtrans2[['numtranstypes', 'numdebits', 'numcredits', 'sumcredits']]"
   ]
  },
  {
   "cell_type": "code",
   "execution_count": 1631,
   "id": "existing-latin",
   "metadata": {},
   "outputs": [
    {
     "name": "stdout",
     "output_type": "stream",
     "text": [
      "Optimization terminated successfully.\n",
      "         Current function value: 0.157535\n",
      "         Iterations 9\n"
     ]
    }
   ],
   "source": [
    "# building the model and fitting the data \n",
    "log_reg = sm.Logit(y, X).fit() "
   ]
  },
  {
   "cell_type": "markdown",
   "id": "hawaiian-prisoner",
   "metadata": {},
   "source": [
    " The below results shows that our multivariate regression model perform much better than our univariate model. The pseudo r-squared value shows significant improvement increasing from 0.093 to 0.77. Our AIC and BIC scores have dropped from 167 and 173 to 51.3 and 65.8 respectively. If we set our level of significance or alpha values equals to 0.05, we can see that the p values of the 4 x indepedent values are below this threshold. This means that to a greater or lesser degree these independent variables are important in determining the cashresult y dependent variable."
   ]
  },
  {
   "cell_type": "code",
   "execution_count": 1632,
   "id": "coral-restoration",
   "metadata": {
    "scrolled": true
   },
   "outputs": [
    {
     "name": "stdout",
     "output_type": "stream",
     "text": [
      "                         Results: Logit\n",
      "=================================================================\n",
      "Model:              Logit            Pseudo R-squared: 0.772     \n",
      "Dependent Variable: cashresult       AIC:              50.2195   \n",
      "Date:               2021-09-05 11:25 BIC:              61.8109   \n",
      "No. Observations:   134              Log-Likelihood:   -21.110   \n",
      "Df Model:           3                LL-Null:          -92.643   \n",
      "Df Residuals:       130              LLR p-value:      8.2474e-31\n",
      "Converged:          1.0000           Scale:            1.0000    \n",
      "No. Iterations:     9.0000                                       \n",
      "-----------------------------------------------------------------\n",
      "                   Coef.  Std.Err.    z    P>|z|   [0.025  0.975]\n",
      "-----------------------------------------------------------------\n",
      "numtranstypes     -1.8326   0.7898 -2.3204 0.0203 -3.3805 -0.2847\n",
      "numdebits         -1.7178   0.4932 -3.4831 0.0005 -2.6844 -0.7512\n",
      "numcredits         5.3909   1.3443  4.0101 0.0001  2.7561  8.0257\n",
      "sumcredits         0.0006   0.0002  2.6016 0.0093  0.0002  0.0011\n",
      "=================================================================\n",
      "\n"
     ]
    }
   ],
   "source": [
    "print(log_reg.summary2())"
   ]
  },
  {
   "cell_type": "markdown",
   "id": "baking-springfield",
   "metadata": {},
   "source": [
    "### Feature Selection ###\n",
    "Based on the two modelling techniques explored above, I am more confident in the results achieved by our univariate linear regression model. As such, I choose to focus on this technique for the remainder of this assisgnment.The linear regression model we explored only used 1 predictor variable (i.e. univariate model). I'm curious to find out whether we can create a more accurate model with less errors using multiple independent predictor variables. The key question here is what features would be the most appropriate to use? "
   ]
  },
  {
   "cell_type": "markdown",
   "id": "light-token",
   "metadata": {},
   "source": [
    "**Create Train and Test Datasets**\n",
    "<br>We will first split the sumtrans2 dataset into tain and split subsets for feature selection and model training. For our X independent variables, I select 8 features from transindex to sumcredits. I'm interested in finding out which combination of these features can be determine cashbalance our y outcome variable."
   ]
  },
  {
   "cell_type": "code",
   "execution_count": 1633,
   "id": "aboriginal-seller",
   "metadata": {},
   "outputs": [],
   "source": [
    "# Select independent X and y dependent variables for multivariate regression modelling\n",
    "X = sumtrans2.iloc[:,1:9]\n",
    "y = sumtrans2['cashbalance']"
   ]
  },
  {
   "cell_type": "markdown",
   "id": "proof-journal",
   "metadata": {},
   "source": [
    "Next I standardize our variables"
   ]
  },
  {
   "cell_type": "code",
   "execution_count": 1634,
   "id": "acceptable-failing",
   "metadata": {},
   "outputs": [],
   "source": [
    "# Standardize X and y variables\n",
    "for col in X.columns:\n",
    "    X[col] = standardize(X[col])\n",
    "\n",
    "y = standardize(y)"
   ]
  },
  {
   "cell_type": "markdown",
   "id": "following-clear",
   "metadata": {},
   "source": [
    "I would like to use 50% of the available data for training our model and the remainder for testing."
   ]
  },
  {
   "cell_type": "code",
   "execution_count": 1635,
   "id": "editorial-albuquerque",
   "metadata": {},
   "outputs": [],
   "source": [
    "# Split data into train and test sets\n",
    "X_train, X_test, y_train, y_test = train_test_split(X, y, test_size=0.5, random_state=None)"
   ]
  },
  {
   "cell_type": "markdown",
   "id": "integrated-electric",
   "metadata": {},
   "source": [
    "**Feature Selection Framework**\n",
    "<br>During my research, I came across the following feature selection framework **(Brownlee, 2019)**. With regression modeling both our input and output variables will be numerical; of int or float value type. As such, I have decided to use Pearson’s Correlation Coefficient as my feature selection method of choice using the f_regression() function from the sklearn library."
   ]
  },
  {
   "cell_type": "markdown",
   "id": "metric-investigator",
   "metadata": {},
   "source": [
    "<img src=\"images/feature_select_framework.png\">"
   ]
  },
  {
   "cell_type": "markdown",
   "id": "floral-surgery",
   "metadata": {},
   "source": [
    "Below we define a function **(Brownlee, 2019)** called select features. The function accepts x training, y training and x testing data. It will then use the SelectKBest() function to determine which top 3 features (k=3) best model the best linear relationship between our indepedent x and y variables. Finally, the function transforms and returns our x training and x testing data inaddition to feature selection scores."
   ]
  },
  {
   "cell_type": "code",
   "execution_count": 1636,
   "id": "accepting-phoenix",
   "metadata": {},
   "outputs": [],
   "source": [
    "def select_features(X_train, y_train, X_test):\n",
    "    # configure to select top 3 features\n",
    "    fs = SelectKBest(score_func=f_regression, k=3)\n",
    "    # learn relationship from training data\n",
    "    fs.fit(X_train, y_train)\n",
    "    # transform train input data\n",
    "    X_train_fs = fs.transform(X_train)\n",
    "    # transform test input data\n",
    "    X_test_fs = fs.transform(X_test)\n",
    "    return X_train_fs, X_test_fs, fs"
   ]
  },
  {
   "cell_type": "markdown",
   "id": "instant-saver",
   "metadata": {},
   "source": [
    "**Feature Selection Scores**"
   ]
  },
  {
   "cell_type": "markdown",
   "id": "cellular-violence",
   "metadata": {},
   "source": [
    "We now pass our X train, Y train and X test datasets to the select_features function **(Brownlee, 2019)**. We also write code **(Brownlee, 2019)** that prints out a score for each feature in our X train dataset. From the results below, we see that transindex (feature 0), transmonth (feature 1) and numdebits (feature 4) are the most important features with the highest scores."
   ]
  },
  {
   "cell_type": "code",
   "execution_count": 1637,
   "id": "attractive-framework",
   "metadata": {
    "scrolled": false
   },
   "outputs": [
    {
     "name": "stdout",
     "output_type": "stream",
     "text": [
      "Feature 0: 554.506887\n",
      "Feature 1: 599.267387\n",
      "Feature 2: 0.059095\n",
      "Feature 3: 0.305387\n",
      "Feature 4: 0.088455\n",
      "Feature 5: 0.005757\n",
      "Feature 6: 0.265774\n",
      "Feature 7: 1.405278\n"
     ]
    },
    {
     "data": {
      "image/png": "[encoded data removed]",
      "text/plain": [
       "<Figure size 360x360 with 1 Axes>"
      ]
     },
     "metadata": {
      "needs_background": "light"
     },
     "output_type": "display_data"
    }
   ],
   "source": [
    "# feature selection\n",
    "X_train_fs, X_test_fs, fs = select_features(X_train, y_train, X_test)\n",
    "# what are scores for the features\n",
    "for i in range(len(fs.scores_)):\n",
    "\tprint('Feature %d: %f' % (i, fs.scores_[i]))\n",
    "# plot the scores\n",
    "plt.figure(1, figsize=(5, 5))\n",
    "plt.bar([i for i in range(len(fs.scores_))], fs.scores_)\n",
    "plt.show()"
   ]
  },
  {
   "cell_type": "markdown",
   "id": "hungry-credit",
   "metadata": {},
   "source": [
    "### Model Training ###\n",
    "Below we use the linear_model function sklearn library to train our multivariate linear regression model. We use the x training data set returned from the select_features function **(Brownlee, 2019)** which contains the top three scoring features."
   ]
  },
  {
   "cell_type": "code",
   "execution_count": 1638,
   "id": "diagnostic-finish",
   "metadata": {},
   "outputs": [
    {
     "data": {
      "text/plain": [
       "LinearRegression()"
      ]
     },
     "execution_count": 1638,
     "metadata": {},
     "output_type": "execute_result"
    }
   ],
   "source": [
    "# Create regression object\n",
    "reg = LinearRegression()\n",
    "\n",
    "# Train model using training sets\n",
    "reg.fit(X_train_fs, y_train)"
   ]
  },
  {
   "cell_type": "markdown",
   "id": "reflected-incentive",
   "metadata": {},
   "source": [
    "### Model Predictions ###"
   ]
  },
  {
   "cell_type": "markdown",
   "id": "recognized-organization",
   "metadata": {},
   "source": [
    "After training our model, we calculate our y predictions, residuals and key metrics."
   ]
  },
  {
   "cell_type": "code",
   "execution_count": 1639,
   "id": "comic-division",
   "metadata": {},
   "outputs": [],
   "source": [
    "# Obtain predictions using the testing set\n",
    "y_pred = reg.predict(X_test_fs)"
   ]
  },
  {
   "cell_type": "code",
   "execution_count": 1640,
   "id": "grave-minute",
   "metadata": {},
   "outputs": [],
   "source": [
    "# Compute residuals\n",
    "residuals = (y_test - y_pred)"
   ]
  },
  {
   "cell_type": "code",
   "execution_count": 1641,
   "id": "expected-egypt",
   "metadata": {},
   "outputs": [],
   "source": [
    "# Calculate Squared Error\n",
    "SE = residuals**2\n",
    "# Calculate Mean Squared Error\n",
    "MSE = np.mean(SE)\n",
    "# Calculate Root Mean Squared Error\n",
    "RMSE = np.sqrt(MSE)"
   ]
  },
  {
   "cell_type": "code",
   "execution_count": 1642,
   "id": "cosmetic-drink",
   "metadata": {},
   "outputs": [
    {
     "name": "stdout",
     "output_type": "stream",
     "text": [
      "Root mean squared error (RMSE): 0.3138807616302967\n"
     ]
    }
   ],
   "source": [
    "print(\"Root mean squared error (RMSE):\", RMSE)"
   ]
  },
  {
   "cell_type": "markdown",
   "id": "substantial-identifier",
   "metadata": {},
   "source": [
    "Our multivariate linear regression model shows only minimal improvement compared to our earlier univariate model. Our r squared value has increased from 0.9 to 0.91. Additionally, our AIC and BIC values have decreased from 72 and 75 to 23 and 29 respectively. Looking at our p values, we can see that two out of our 3 selected model features (x2 and x3) are statistically significant. The other feature (x1) is just above our alpha value of 0.05. "
   ]
  },
  {
   "cell_type": "code",
   "execution_count": 1643,
   "id": "abstract-dealer",
   "metadata": {},
   "outputs": [
    {
     "data": {
      "text/html": [
       "<table class=\"simpletable\">\n",
       "<tr>\n",
       "          <td>Model:</td>                 <td>OLS</td>       <td>Adj. R-squared (uncentered):</td>   <td>0.916</td> \n",
       "</tr>\n",
       "<tr>\n",
       "    <td>Dependent Variable:</td>      <td>cashbalance</td>               <td>AIC:</td>              <td>23.2538</td>\n",
       "</tr>\n",
       "<tr>\n",
       "           <td>Date:</td>          <td>2021-09-05 11:26</td>             <td>BIC:</td>              <td>29.8679</td>\n",
       "</tr>\n",
       "<tr>\n",
       "     <td>No. Observations:</td>           <td>67</td>               <td>Log-Likelihood:</td>        <td>-8.6269</td>\n",
       "</tr>\n",
       "<tr>\n",
       "         <td>Df Model:</td>                <td>3</td>                <td>F-statistic:</td>           <td>243.1</td> \n",
       "</tr>\n",
       "<tr>\n",
       "       <td>Df Residuals:</td>             <td>64</td>             <td>Prob (F-statistic):</td>     <td>6.40e-35</td>\n",
       "</tr>\n",
       "<tr>\n",
       "  <td>R-squared (uncentered):</td>       <td>0.919</td>                 <td>Scale:</td>            <td>0.079298</td>\n",
       "</tr>\n",
       "</table>\n",
       "<table class=\"simpletable\">\n",
       "<tr>\n",
       "   <td></td>   <th>Coef.</th> <th>Std.Err.</th>    <th>t</th>    <th>P>|t|</th> <th>[0.025</th>  <th>0.975]</th>\n",
       "</tr>\n",
       "<tr>\n",
       "  <th>x1</th> <td>0.1894</td>  <td>0.3870</td>  <td>0.4894</td> <td>0.6263</td> <td>-0.5837</td> <td>0.9625</td>\n",
       "</tr>\n",
       "<tr>\n",
       "  <th>x2</th> <td>0.7570</td>  <td>0.3895</td>  <td>1.9436</td> <td>0.0563</td> <td>-0.0211</td> <td>1.5352</td>\n",
       "</tr>\n",
       "<tr>\n",
       "  <th>x3</th> <td>0.1057</td>  <td>0.0290</td>  <td>3.6446</td> <td>0.0005</td> <td>0.0478</td>  <td>0.1637</td>\n",
       "</tr>\n",
       "</table>\n",
       "<table class=\"simpletable\">\n",
       "<tr>\n",
       "     <td>Omnibus:</td>     <td>2.635</td>  <td>Durbin-Watson:</td>   <td>1.832</td>\n",
       "</tr>\n",
       "<tr>\n",
       "  <td>Prob(Omnibus):</td>  <td>0.268</td> <td>Jarque-Bera (JB):</td> <td>1.948</td>\n",
       "</tr>\n",
       "<tr>\n",
       "       <td>Skew:</td>     <td>-0.244</td>     <td>Prob(JB):</td>     <td>0.378</td>\n",
       "</tr>\n",
       "<tr>\n",
       "     <td>Kurtosis:</td>    <td>2.322</td>  <td>Condition No.:</td>    <td>22</td>  \n",
       "</tr>\n",
       "</table>"
      ],
      "text/plain": [
       "<class 'statsmodels.iolib.summary2.Summary'>\n",
       "\"\"\"\n",
       "                       Results: Ordinary least squares\n",
       "==============================================================================\n",
       "Model:                  OLS              Adj. R-squared (uncentered): 0.916   \n",
       "Dependent Variable:     cashbalance      AIC:                         23.2538 \n",
       "Date:                   2021-09-05 11:26 BIC:                         29.8679 \n",
       "No. Observations:       67               Log-Likelihood:              -8.6269 \n",
       "Df Model:               3                F-statistic:                 243.1   \n",
       "Df Residuals:           64               Prob (F-statistic):          6.40e-35\n",
       "R-squared (uncentered): 0.919            Scale:                       0.079298\n",
       "------------------------------------------------------------------------------------\n",
       "          Coef.        Std.Err.         t          P>|t|         [0.025       0.975]\n",
       "------------------------------------------------------------------------------------\n",
       "x1        0.1894         0.3870       0.4894       0.6263       -0.5837       0.9625\n",
       "x2        0.7570         0.3895       1.9436       0.0563       -0.0211       1.5352\n",
       "x3        0.1057         0.0290       3.6446       0.0005        0.0478       0.1637\n",
       "------------------------------------------------------------------------------\n",
       "Omnibus:                  2.635             Durbin-Watson:               1.832\n",
       "Prob(Omnibus):            0.268             Jarque-Bera (JB):            1.948\n",
       "Skew:                     -0.244            Prob(JB):                    0.378\n",
       "Kurtosis:                 2.322             Condition No.:               22   \n",
       "==============================================================================\n",
       "\n",
       "\"\"\""
      ]
     },
     "execution_count": 1643,
     "metadata": {},
     "output_type": "execute_result"
    }
   ],
   "source": [
    "mod = sm.OLS(y_train,X_train_fs)\n",
    "model = mod.fit()\n",
    "model.summary2()"
   ]
  },
  {
   "cell_type": "markdown",
   "id": "limited-tuition",
   "metadata": {},
   "source": [
    "### Evaluation ###"
   ]
  },
  {
   "cell_type": "markdown",
   "id": "white-partition",
   "metadata": {},
   "source": [
    "**Insights and Results**\n",
    "<br>My main goal when I initially started this project was to develop an alternative credit scoring model for SMEs in the Caribbean Netherlands using bank transactions. The research and work I've done so far on this project has informed me that although this goal is ambitious and not achievable in the time frame I had imagined, it is possibly attainable. More specfic to this project, I would state the following as the key insights I developed;\n",
    "\n",
    "1) It is probably impossible to create an alternative credit scoring model for SMEs using only bank transactions. Additional contextual information is needed with regards to the business type, size and other key characteristics. Additional alternative data and sources of information would be useful in building this more complete contextual picture.\n",
    "\n",
    "2) Not withstanding the above, bank transactions combined with regression algorithms can be used with a high degree of accuracy to model and predict the cashflow of an SME. Cashflow is arguably one of the most important factor for lenders in determining whether to extend credit to an applicant. It it very promising that linear regression modelling showed promising results with the dataset I had available to work with. Multivariate logistic regression modelling also provided promising results and warrants further exploration.\n",
    "\n",
    "\n",
    "3) Feature engineering is a very important step in maximizing the value that can be derived from bank transactions or any alernative data source for that matter. This insight was emphasized both in the research that I conducted and also in working with the dataset available to me."
   ]
  },
  {
   "cell_type": "markdown",
   "id": "million-preservation",
   "metadata": {},
   "source": [
    "**Further Work Required**\n",
    "<br>I plan to continue working on this project after this assisgnment. Below, I outline some of the research and other areas of work that I would like to carry out;\n",
    "\n",
    "1) Obtain a larger dataset with transactions from several SMEs. A larger dataset would allow for building a better credit scoring model that encompasses a wider range of SME's financial transactions. This will also allow me to test and hopefully validate the classification and regression modeling techniques used in this assignment. (Kenyatta, 2021). Unfortunately, I was not able to acheive this aim at this stage of the project.\n",
    "\n",
    "2) Research and make us of alternative data sources that can be combined with the bank transactions of an SME to create a more complete picture of their loan repayment ability and overall creditworthiness. In particular, I would like to continue down the line of research of cash flow based credit scoring models.\n",
    "\n",
    "\n",
    "3) Finally, I would like to apply more advance statistical and machine learning techniques. This will help not only with feature engineering and selection but also with modeling and evaluation of results."
   ]
  },
  {
   "cell_type": "markdown",
   "id": "ordered-nightmare",
   "metadata": {},
   "source": [
    "### References ###"
   ]
  },
  {
   "cell_type": "markdown",
   "id": "viral-passion",
   "metadata": {},
   "source": [
    "<br>ASTRI, 2 November 2020. ASTRI publishes white paper on alternative credit scoring of MSMEs. Available at: https://www.astri.org/news-detail/astri-publishes-white-paper-on-alternative-credit-scoring-of-msmes/ Accessed: 20th August 2021<br>\n",
    "\n",
    "<br>Baesens et al, 2005. Linear and Non-linear Credit Scoring by Combining Logistic Regression and Support Vector Machines. Available at: https://www.researchgate.net/publication/251376222_Linear_and_Non-linear_Credit_Scoring_by_Combining_Logistic_Regression_and_Support_Vector_Machines Accessed: 20th August 2021<br>\n",
    "\n",
    "<br>Brownlee, 27 November 2019. How to Choose a Feature Selection Method For Machine Learning. Available at: https://machinelearningmastery.com/feature-selection-with-real-and-categorical-data/ Accessed: 3rd September 2021<br>\n",
    "\n",
    "<br>Bruce, Bruce and Gedeck 2020. Practical Statistics for Data Scientists 2nd edition. Boston: O'Reilly<br>\n",
    "\n",
    "<br>CBPBES, 2021. Personal Data Protection Act BES. Available at: https://cbpbes.com/privacy/wet-wbpbes/ Accessed: 15th August 2021<br>\n",
    "\n",
    "<br>Cifuentes  et al 2013. A Cash Flow-Based Approach to Estimate Default Probabilities. Available at: http://www.crem.uchile.cl/cremuchile/wp-content/uploads/2014/01/CREM-2013-N%C2%BA2-A-Cash-Flow-Based-Approach-to-Estimate-Default-Probabilities.pdf Accessed: 1 Septepmber 2021<br>\n",
    "\n",
    "<br>(EUR-LEX, 2021). General Data Protection Regulation. Available at: https://gdpr-info.eu/ Accessed: 15th August 2021<br>\n",
    "\n",
    "<br>(Gallo, 16 Feburary 2016). A Refresher on Statistical Significance. Available at: https://hbr.org/2016/02/a-refresher-on-statistical-significance Accessed: 29th August 2021<br>\n",
    "\n",
    "<br>(Hayes, 15 April 2021). Null Hypothesis. Available at: https://www.investopedia.com/terms/n/null_hypothesis.asp Accessed: 29th August 2021<br>\n",
    "\n",
    "<br>Kenyatta (2021). Creditworthiness of Caribbean Netherlands SMEs: measuring the financial ability and responsibility of SMEs in the Caribbean Netherlands to borrow and repay micro loans. Available at: https://colab.research.google.com/drive/1r1uOr1jWwpbjtnxn-cJEN1sWdM3MFdW2#scrollTo=N0IqFnp5OvQq Accessed: 23rd August 2021\n",
    "\n",
    "<br>(Kenton, 27 July 2021). Default Probability. Available at: https://www.investopedia.com/terms/d/defaultprobability.asp Accessed: 20th August 2021<br>\n",
    "\n",
    "(Luber, 23 July 2021). Bank Transaction Data Can Help the Underserved. Available at:  https://www.equifax.com/newsroom/all-news/-/story/bank-transaction-data-can-help-the-underserved-6/ Accessed: 20th August 2021<br>\n",
    "\n",
    "<br>McKinney, W. (2017). Python for Data Analysis 2nd edition. Boston: O'Reilly<br>\n",
    "\n",
    "<br>(Sadawi, 2021). Statistics and statistical mining (DSM030-2021-APR). Available at: https://learn.london.ac.uk/course/view.php?id=212&section=7 Accessed: 29th August 2021<br>\n",
    "\n",
    "<br>Summerfield, M (2010). Programming in Python 3: A Complete Introduction to the Python Language 2nd edition. Addison-Welsey<br>\n",
    "\n",
    "<br>(Vasile, 12 January 2020). What’s the best way to handle NaN values? Available at: https://towardsdatascience.com/whats-the-best-way-to-handle-nan-values-62d50f738fc Accessed: 21st August 2021<br>\n",
    "\n",
    "<br>(Verkade, 17 April 2018). Credit scoring for small medium enterprises using transaction data. Available at:\n",
    "https://repository.tudelft.nl/islandora/object/uuid%3A6ed89f2f-2c5f-4b85-859b-47a244da609b Accessed: 20th August 2021<br>\n",
    "\n",
    "<br>(Zach, 2021). What is Considered a Good RMSE Value? Available at: https://www.statology.org/what-is-a-good-rmse/ Accessed: 30th August 2021<br>\n"
   ]
  },
  {
   "cell_type": "code",
   "execution_count": null,
   "id": "exact-particle",
   "metadata": {},
   "outputs": [],
   "source": []
  }
 ],
 "metadata": {
  "kernelspec": {
   "display_name": "Python 3",
   "language": "python",
   "name": "python3"
  },
  "language_info": {
   "codemirror_mode": {
    "name": "ipython",
    "version": 3
   },
   "file_extension": ".py",
   "mimetype": "text/x-python",
   "name": "python",
   "nbconvert_exporter": "python",
   "pygments_lexer": "ipython3",
   "version": "3.8.5"
  }
 },
 "nbformat": 4,
 "nbformat_minor": 5
}
