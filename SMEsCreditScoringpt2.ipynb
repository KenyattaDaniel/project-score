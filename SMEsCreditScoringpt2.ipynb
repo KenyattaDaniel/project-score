{
 "cells": [
  {
   "cell_type": "markdown",
   "id": "eastern-state",
   "metadata": {},
   "source": [
    "# Creditworthiness of Caribbean Netherlands SMEs: measuring the financial ability and responsibility of SMEs in the Caribbean Netherlands to borrow and repay micro loans (Part2) #"
   ]
  },
  {
   "cell_type": "markdown",
   "id": "german-naples",
   "metadata": {},
   "source": [
    "### Introduction ###"
   ]
  },
  {
   "cell_type": "markdown",
   "id": "checked-brake",
   "metadata": {},
   "source": [
    "**Research Context**"
   ]
  },
  {
   "cell_type": "markdown",
   "id": "patent-kidney",
   "metadata": {},
   "source": [
    "This is the followup to a project proposal I submitted as an assignment for the Data Programming in Python module at the University of London. My stated goal within the initial proposal was to develop a credit risk model that can be used by banks and financial institutions in the Caribbean Netherlands to \"measure and score the financial ability and responsibility of SMEs\" in repaying micro loans. The bank transactions of SME's would be the primary data used to train and evaluate the accuracy of such a credit risk model. Bank transactions are ideal because they offer a real time and ongoing insight into an individual's or business financial activities; particulary from a cashflow perspective. To that affect the bank transactions of TACT, an SME based in the Caribbean, was obtained, cleaned, explored and prepared for this next step.\n",
    "\n",
    "<br>Following the initial project proposal, I carried out further research into the field of credit risk modelling for businesses. Traditionally banks and lending institutions use credit reports from external credit bureaus (e.g. TransUnion, Equifax, and Experian) in addition to financial statements when assessing the credit worthiness of [Micro, Small and Medium sized] businesses **(Astri, 2020)**. Essentially banks use this information to identify the probability of default (i.e. PD); the likelihood over a specified period, usually one year, that a borrower will not be able to make scheduled repayments **(Kenton, 2021)**. However, according to a report by the Hong Kong Applied Science and Technology Research Institute (i.e. ASTRI), \"financial institutions seeking to assess the creditworthiness of MSMEs face a serious constraint and source of inefficiency in the lack of transparent management information available. Many banks prefer to lend to large enterprises rather than MSMEs because these enterprises are able to provide clear audited financial statements. It can be difficult for banks to evaluate MSMEs because they often do not have solid accounting systems in place\" **(Astri, 2020)**. In the Caribbean Netherland this problem is exacerbated by the fact that most businesses are defined as micro or small enterprises. As such are not required by NL GAAP to produce audited financial statements. \n",
    "\n",
    "<br>Alternative data sources are increasingly being used to overcome challenges in assessing the credit worthiness of MSMEs. During my research I discovered that \"the use of bank transactions is [a] relatively new\" concept and is seen as an \"alternative data\" source within the space of credit risk modelling **(Luber, 2021)**. This is according to Equifax, one of the largest consumer credit reporting agencies worldwide. Alternative data also includes transactional data such as mobile phone usage, electricity consumption and social media data in addition to bank statements. The benefits of using alternative data for credit risk modeling include greater insights, data reliability, risk mitigation and continous monitoring. On the other hand, some key challenge in working with alternative data includes maintaining user privacy, the effort required in dataset feature engineering and in selecting the appropriate machine learning algorithms. On the last point, my research revealed that credit risk modelling has traditionally been seen as a classification problem; with a focus on identifying whether a user is likely to default or not. As a result, when it comes to applying machine learning algorithms to create traditional credit risk models, \"logistic regression is considered the industry's practice\" **(Verkade, 2018)**. However, my research also revealed that \"there is no single answer to the question of which machine learning algorithm is best to use for alternative credit scoring\" and that \"model selection therefore needs to be an exploratory process involving the continuous evaluation of multiple machine learning models **(Astri, 2020)**.\" \n"
   ]
  },
  {
   "cell_type": "markdown",
   "id": "expired-image",
   "metadata": {},
   "source": [
    "**Updated Project Objectives**"
   ]
  },
  {
   "cell_type": "markdown",
   "id": "polyphonic-phoenix",
   "metadata": {},
   "source": [
    "Based on the above research context, I aim to achieve the following objectives with this project;\n",
    "\n",
    "a. Further engineer the dataset features for the purposes of apply classification machine learning algorithms\n",
    "<br>b. Make use of external altnerative data if available and where appropriate\n",
    "<br>c. Explore and compare the accuracy of atleast two classification ML algorithms for credit risk modeling \n",
    "<br>d. Evaluate project lessons learnt and discuss future work required.\n",
    "\n",
    "\n",
    "\n",
    " "
   ]
  },
  {
   "cell_type": "markdown",
   "id": "three-andorra",
   "metadata": {},
   "source": [
    "**Python Libraries**"
   ]
  },
  {
   "cell_type": "markdown",
   "id": "loved-locator",
   "metadata": {},
   "source": [
    "Once again, Python will be used along with the following libraries to complete tasks including external data acquisition, feature set engineering, data visualization, model training and evaluation. Online documentation for the various libraries were accessed throughout the completion of this project. "
   ]
  },
  {
   "cell_type": "code",
   "execution_count": 173,
   "id": "republican-duplicate",
   "metadata": {},
   "outputs": [],
   "source": [
    "import numpy as np\n",
    "import pandas as pd\n",
    "import datetime as dt\n",
    "import matplotlib.pyplot as plt\n",
    "import seaborn as sns\n",
    "from scipy import stats\n",
    "%matplotlib inline"
   ]
  },
  {
   "cell_type": "markdown",
   "id": "spiritual-uniform",
   "metadata": {},
   "source": [
    "**Version Control**"
   ]
  },
  {
   "cell_type": "markdown",
   "id": "fatal-supervisor",
   "metadata": {},
   "source": [
    "The code for this project can be found on my personal Github repository at;"
   ]
  },
  {
   "cell_type": "markdown",
   "id": "increased-pride",
   "metadata": {},
   "source": [
    "### Feature Engineering ###"
   ]
  },
  {
   "cell_type": "markdown",
   "id": "unique-president",
   "metadata": {},
   "source": [
    "**Dataset Import**\n",
    "<br>Below I import the summarized transactions (i.e. sumtrans) dataset created during the initial project. The sumtrans dataset contains the daily summarized bank transactions of my firm accounting firm TACT throughout 2020. "
   ]
  },
  {
   "cell_type": "code",
   "execution_count": 174,
   "id": "adopted-journal",
   "metadata": {
    "scrolled": false
   },
   "outputs": [],
   "source": [
    "sumtrans = pd.read_csv(\"data/sum_bank_trans.csv\")"
   ]
  },
  {
   "cell_type": "markdown",
   "id": "realistic-forth",
   "metadata": {},
   "source": [
    "**Dataset Features Explained**\n",
    "<br>A short description of the dataset features are provided below;<br>\n",
    "<br>0. <u>postdate</u> = the transactions date by year-month-day\n",
    "<br>1. <u>uniquetypes</u> = a description of the unique transcations type per date\n",
    "<br>2. <u>numuniquetypes</u> = the number of unique transcations types per date\n",
    "<br>3. <u>numdebits</u> = the number of debit transcations per date (i.e. number of payments made)\n",
    "<br>4. <u>numcredits</u> = the number of credit transcations per date (i.e. number of payments received)\n",
    "<br>5. <u>sumdebits</u> = a total or summary of all debit amounts per date (i.e. total of payments made)\n",
    "<br>6. <u>sumcredits</u> = a total or summary of all credit amounts per date (i.e. total of payments received)\n",
    "<br>7. <u>sumdiff</u> = the difference between total debits and credits per date\n",
    "<br>8. <u>repayposs</u> = indicates whether cashflow was positive 1 or negative 0 per date\n",
    "<br>9. <u>repayscore</u> = arbitrary cashflow scoring system with 0 meaning negative cashflow and 5 meaning highest positive cashflow per date"
   ]
  },
  {
   "cell_type": "markdown",
   "id": "sealed-graham",
   "metadata": {},
   "source": [
    "Below I provide an overview of the sumtrans dataset."
   ]
  },
  {
   "cell_type": "code",
   "execution_count": 175,
   "id": "waiting-tissue",
   "metadata": {},
   "outputs": [
    {
     "data": {
      "text/html": [
       "<div>\n",
       "<style scoped>\n",
       "    .dataframe tbody tr th:only-of-type {\n",
       "        vertical-align: middle;\n",
       "    }\n",
       "\n",
       "    .dataframe tbody tr th {\n",
       "        vertical-align: top;\n",
       "    }\n",
       "\n",
       "    .dataframe thead th {\n",
       "        text-align: right;\n",
       "    }\n",
       "</style>\n",
       "<table border=\"1\" class=\"dataframe\">\n",
       "  <thead>\n",
       "    <tr style=\"text-align: right;\">\n",
       "      <th></th>\n",
       "      <th>postdate</th>\n",
       "      <th>uniquetypes</th>\n",
       "      <th>numuniquetypes</th>\n",
       "      <th>numdebits</th>\n",
       "      <th>numcredits</th>\n",
       "      <th>sumdebits</th>\n",
       "      <th>sumcredits</th>\n",
       "      <th>sumdiff</th>\n",
       "      <th>repayposs</th>\n",
       "      <th>repayscore</th>\n",
       "    </tr>\n",
       "  </thead>\n",
       "  <tbody>\n",
       "    <tr>\n",
       "      <th>0</th>\n",
       "      <td>2020-01-02</td>\n",
       "      <td>['DEBIT NOTE']</td>\n",
       "      <td>1</td>\n",
       "      <td>2.0</td>\n",
       "      <td>NaN</td>\n",
       "      <td>573.6</td>\n",
       "      <td>NaN</td>\n",
       "      <td>-573.6</td>\n",
       "      <td>0</td>\n",
       "      <td>0</td>\n",
       "    </tr>\n",
       "    <tr>\n",
       "      <th>1</th>\n",
       "      <td>2020-01-03</td>\n",
       "      <td>['DEBIT NOTE' 'C/A ATM/TB TRANSFER CR']</td>\n",
       "      <td>2</td>\n",
       "      <td>3.0</td>\n",
       "      <td>1.0</td>\n",
       "      <td>236.6</td>\n",
       "      <td>565.0</td>\n",
       "      <td>328.4</td>\n",
       "      <td>1</td>\n",
       "      <td>2</td>\n",
       "    </tr>\n",
       "    <tr>\n",
       "      <th>2</th>\n",
       "      <td>2020-01-06</td>\n",
       "      <td>['CUSTOMER DEPOSIT']</td>\n",
       "      <td>1</td>\n",
       "      <td>NaN</td>\n",
       "      <td>1.0</td>\n",
       "      <td>NaN</td>\n",
       "      <td>2290.0</td>\n",
       "      <td>2290.0</td>\n",
       "      <td>1</td>\n",
       "      <td>5</td>\n",
       "    </tr>\n",
       "    <tr>\n",
       "      <th>3</th>\n",
       "      <td>2020-01-07</td>\n",
       "      <td>['CREDIT NOTE' 'CUSTOMER DEPOSIT']</td>\n",
       "      <td>2</td>\n",
       "      <td>NaN</td>\n",
       "      <td>2.0</td>\n",
       "      <td>NaN</td>\n",
       "      <td>2540.0</td>\n",
       "      <td>2540.0</td>\n",
       "      <td>1</td>\n",
       "      <td>5</td>\n",
       "    </tr>\n",
       "    <tr>\n",
       "      <th>4</th>\n",
       "      <td>2020-01-09</td>\n",
       "      <td>['C/A ATM/TB BILL PAYMENT DT']</td>\n",
       "      <td>1</td>\n",
       "      <td>1.0</td>\n",
       "      <td>NaN</td>\n",
       "      <td>1000.0</td>\n",
       "      <td>NaN</td>\n",
       "      <td>-1000.0</td>\n",
       "      <td>0</td>\n",
       "      <td>0</td>\n",
       "    </tr>\n",
       "  </tbody>\n",
       "</table>\n",
       "</div>"
      ],
      "text/plain": [
       "     postdate                              uniquetypes  numuniquetypes  \\\n",
       "0  2020-01-02                           ['DEBIT NOTE']               1   \n",
       "1  2020-01-03  ['DEBIT NOTE' 'C/A ATM/TB TRANSFER CR']               2   \n",
       "2  2020-01-06                     ['CUSTOMER DEPOSIT']               1   \n",
       "3  2020-01-07       ['CREDIT NOTE' 'CUSTOMER DEPOSIT']               2   \n",
       "4  2020-01-09           ['C/A ATM/TB BILL PAYMENT DT']               1   \n",
       "\n",
       "   numdebits  numcredits  sumdebits  sumcredits  sumdiff  repayposs  \\\n",
       "0        2.0         NaN      573.6         NaN   -573.6          0   \n",
       "1        3.0         1.0      236.6       565.0    328.4          1   \n",
       "2        NaN         1.0        NaN      2290.0   2290.0          1   \n",
       "3        NaN         2.0        NaN      2540.0   2540.0          1   \n",
       "4        1.0         NaN     1000.0         NaN  -1000.0          0   \n",
       "\n",
       "   repayscore  \n",
       "0           0  \n",
       "1           2  \n",
       "2           5  \n",
       "3           5  \n",
       "4           0  "
      ]
     },
     "execution_count": 175,
     "metadata": {},
     "output_type": "execute_result"
    }
   ],
   "source": [
    "sumtrans.head()"
   ]
  },
  {
   "cell_type": "code",
   "execution_count": 176,
   "id": "turned-mediterranean",
   "metadata": {},
   "outputs": [
    {
     "data": {
      "text/plain": [
       "(134, 10)"
      ]
     },
     "execution_count": 176,
     "metadata": {},
     "output_type": "execute_result"
    }
   ],
   "source": [
    "sumtrans.shape"
   ]
  },
  {
   "cell_type": "markdown",
   "id": "featured-colon",
   "metadata": {},
   "source": [
    "**Remove Unecessary Features**\n",
    "<br>Below I remove the uniquetypes feature. My intention is to apply classification algorithms (i.e. logistic regression) to the dataset features. This will not work with features that contain categorical data such as uniquetypes. I did consider applying one-hot encoding to the uniquetypes feature to convert it to numerical data. However I decided against this because the combination of the numuniquetypes, numdebits and numcredits features provide essentially the same information."
   ]
  },
  {
   "cell_type": "code",
   "execution_count": 177,
   "id": "personalized-portuguese",
   "metadata": {
    "scrolled": true
   },
   "outputs": [],
   "source": [
    "# First make copy of existing dataset\n",
    "sumtrans2 = sumtrans.copy()\n",
    "\n",
    "# Drop uniquetypes feature\n",
    "sumtrans2.drop(columns=['uniquetypes'], inplace=True)"
   ]
  },
  {
   "cell_type": "markdown",
   "id": "stone-blast",
   "metadata": {},
   "source": [
    "**Rename Existing Features**\n",
    "<br>I would like to rename certain features to better describe the data records they contain."
   ]
  },
  {
   "cell_type": "code",
   "execution_count": 178,
   "id": "impaired-driver",
   "metadata": {},
   "outputs": [],
   "source": [
    "# Define new column names to replace existing one\n",
    "newnames = {\"postdate\" : \"transdate\", \"numuniquetypes\": \"numtranstypes\", \n",
    "            \"repayposs\": \"cashresult\", \"repayscore\" : \"cashscore\" }\n",
    "\n",
    "sumtrans2.rename(columns=newnames, inplace=True)"
   ]
  },
  {
   "cell_type": "markdown",
   "id": "identified-inside",
   "metadata": {},
   "source": [
    "**Handling Features with NaN Values**\n",
    "<br>The numdebits, numcredits, sumdebits and sumcredit should not contain NaN values. For example, if there were zero credit transactions on a day, this is better represented as a 0 value within the numcredits feature and a 0.0 value within the sumcredits feature instead of NaN. "
   ]
  },
  {
   "cell_type": "code",
   "execution_count": 179,
   "id": "exposed-customs",
   "metadata": {},
   "outputs": [],
   "source": [
    "# Fill all NaN values with 0\n",
    "sumtrans2.fillna(0,inplace=True)"
   ]
  },
  {
   "cell_type": "markdown",
   "id": "civil-julian",
   "metadata": {},
   "source": [
    "**Changing Feature Data Types**\n",
    "<br>I noticed that the numdebits and numcredits features contain float values. The values in these features would better be represented as integer values. For example, it's not possible to have 1.5 or 3.75 debits in a day. "
   ]
  },
  {
   "cell_type": "code",
   "execution_count": 181,
   "id": "affected-montreal",
   "metadata": {},
   "outputs": [],
   "source": [
    "# Change numdebits and numcredits data type to integer\n",
    "sumtrans2['numdebits'] = sumtrans2['numdebits'].astype(int)\n",
    "sumtrans2['numcredits'] = sumtrans2['numcredits'].astype(int)"
   ]
  },
  {
   "cell_type": "markdown",
   "id": "antique-battle",
   "metadata": {},
   "source": [
    "**Add New Date Features**\n",
    "<br>My research indicated that feature engineering although challenging, is important to derive value from alternative data used for credit risk modelling. Below I seek to add new features to the dataset utilizing my background in accounting. In particular, I'd like to add features that can assist in revealing cashflow timing patterns. For this, the transdate feature will come in handy!"
   ]
  },
  {
   "cell_type": "code",
   "execution_count": 182,
   "id": "geological-morris",
   "metadata": {},
   "outputs": [],
   "source": [
    "# Convert transdate feature from string to datetime\n",
    "sumtrans2[\"transdate\"] = pd.to_datetime(sumtrans2['transdate'])\n",
    "\n",
    "# Create new date related features\n",
    "transmonth = sumtrans2[\"transdate\"].dt.month\n",
    "transday = sumtrans2[\"transdate\"].dt.day\n",
    "\n",
    "# Insert new features into dataset\n",
    "sumtrans2.insert(1,\"transmonth\",transmonth)\n",
    "sumtrans2.insert(2,\"transday\",transday)\n"
   ]
  },
  {
   "cell_type": "markdown",
   "id": "thrown-possession",
   "metadata": {},
   "source": [
    "**Add New Sum Feature**\n",
    "<br>Below I added a new feature with shows a accumlating balance of the sumdiff feature"
   ]
  },
  {
   "cell_type": "code",
   "execution_count": 191,
   "id": "clean-breathing",
   "metadata": {},
   "outputs": [],
   "source": [
    "sumbalance = sumtrans2['sumdiff'].cumsum()\n",
    "\n",
    "# Insert new features into dataset\n",
    "sumtrans2.insert(9,\"sumbalance\",sumbalance)"
   ]
  },
  {
   "cell_type": "markdown",
   "id": "fourth-blocking",
   "metadata": {},
   "source": [
    "**Preview of Updated Dataset**"
   ]
  },
  {
   "cell_type": "code",
   "execution_count": 197,
   "id": "recent-smart",
   "metadata": {},
   "outputs": [
    {
     "data": {
      "text/html": [
       "<div>\n",
       "<style scoped>\n",
       "    .dataframe tbody tr th:only-of-type {\n",
       "        vertical-align: middle;\n",
       "    }\n",
       "\n",
       "    .dataframe tbody tr th {\n",
       "        vertical-align: top;\n",
       "    }\n",
       "\n",
       "    .dataframe thead th {\n",
       "        text-align: right;\n",
       "    }\n",
       "</style>\n",
       "<table border=\"1\" class=\"dataframe\">\n",
       "  <thead>\n",
       "    <tr style=\"text-align: right;\">\n",
       "      <th></th>\n",
       "      <th>transdate</th>\n",
       "      <th>transmonth</th>\n",
       "      <th>transday</th>\n",
       "      <th>numtranstypes</th>\n",
       "      <th>numdebits</th>\n",
       "      <th>numcredits</th>\n",
       "      <th>sumdebits</th>\n",
       "      <th>sumcredits</th>\n",
       "      <th>sumdiff</th>\n",
       "      <th>sumbalance</th>\n",
       "      <th>cashresult</th>\n",
       "      <th>cashscore</th>\n",
       "    </tr>\n",
       "  </thead>\n",
       "  <tbody>\n",
       "    <tr>\n",
       "      <th>0</th>\n",
       "      <td>2020-01-02</td>\n",
       "      <td>1</td>\n",
       "      <td>2</td>\n",
       "      <td>1</td>\n",
       "      <td>2</td>\n",
       "      <td>0</td>\n",
       "      <td>573.6</td>\n",
       "      <td>0.0</td>\n",
       "      <td>-573.6</td>\n",
       "      <td>-573.6</td>\n",
       "      <td>0</td>\n",
       "      <td>0</td>\n",
       "    </tr>\n",
       "    <tr>\n",
       "      <th>1</th>\n",
       "      <td>2020-01-03</td>\n",
       "      <td>1</td>\n",
       "      <td>3</td>\n",
       "      <td>2</td>\n",
       "      <td>3</td>\n",
       "      <td>1</td>\n",
       "      <td>236.6</td>\n",
       "      <td>565.0</td>\n",
       "      <td>328.4</td>\n",
       "      <td>-245.2</td>\n",
       "      <td>1</td>\n",
       "      <td>2</td>\n",
       "    </tr>\n",
       "    <tr>\n",
       "      <th>2</th>\n",
       "      <td>2020-01-06</td>\n",
       "      <td>1</td>\n",
       "      <td>6</td>\n",
       "      <td>1</td>\n",
       "      <td>0</td>\n",
       "      <td>1</td>\n",
       "      <td>0.0</td>\n",
       "      <td>2290.0</td>\n",
       "      <td>2290.0</td>\n",
       "      <td>2044.8</td>\n",
       "      <td>1</td>\n",
       "      <td>5</td>\n",
       "    </tr>\n",
       "    <tr>\n",
       "      <th>3</th>\n",
       "      <td>2020-01-07</td>\n",
       "      <td>1</td>\n",
       "      <td>7</td>\n",
       "      <td>2</td>\n",
       "      <td>0</td>\n",
       "      <td>2</td>\n",
       "      <td>0.0</td>\n",
       "      <td>2540.0</td>\n",
       "      <td>2540.0</td>\n",
       "      <td>4584.8</td>\n",
       "      <td>1</td>\n",
       "      <td>5</td>\n",
       "    </tr>\n",
       "    <tr>\n",
       "      <th>4</th>\n",
       "      <td>2020-01-09</td>\n",
       "      <td>1</td>\n",
       "      <td>9</td>\n",
       "      <td>1</td>\n",
       "      <td>1</td>\n",
       "      <td>0</td>\n",
       "      <td>1000.0</td>\n",
       "      <td>0.0</td>\n",
       "      <td>-1000.0</td>\n",
       "      <td>3584.8</td>\n",
       "      <td>0</td>\n",
       "      <td>0</td>\n",
       "    </tr>\n",
       "  </tbody>\n",
       "</table>\n",
       "</div>"
      ],
      "text/plain": [
       "   transdate  transmonth  transday  numtranstypes  numdebits  numcredits  \\\n",
       "0 2020-01-02           1         2              1          2           0   \n",
       "1 2020-01-03           1         3              2          3           1   \n",
       "2 2020-01-06           1         6              1          0           1   \n",
       "3 2020-01-07           1         7              2          0           2   \n",
       "4 2020-01-09           1         9              1          1           0   \n",
       "\n",
       "   sumdebits  sumcredits  sumdiff  sumbalance  cashresult  cashscore  \n",
       "0      573.6         0.0   -573.6      -573.6           0          0  \n",
       "1      236.6       565.0    328.4      -245.2           1          2  \n",
       "2        0.0      2290.0   2290.0      2044.8           1          5  \n",
       "3        0.0      2540.0   2540.0      4584.8           1          5  \n",
       "4     1000.0         0.0  -1000.0      3584.8           0          0  "
      ]
     },
     "execution_count": 197,
     "metadata": {},
     "output_type": "execute_result"
    }
   ],
   "source": [
    "sumtrans2.head()"
   ]
  },
  {
   "cell_type": "markdown",
   "id": "frequent-tribute",
   "metadata": {},
   "source": [
    "### Acquire External Data? ###"
   ]
  },
  {
   "cell_type": "markdown",
   "id": "particular-journalism",
   "metadata": {},
   "source": []
  },
  {
   "cell_type": "code",
   "execution_count": null,
   "id": "extraordinary-medline",
   "metadata": {},
   "outputs": [],
   "source": []
  },
  {
   "cell_type": "markdown",
   "id": "spanish-growth",
   "metadata": {},
   "source": [
    "### Unit Tests? ###"
   ]
  },
  {
   "cell_type": "code",
   "execution_count": null,
   "id": "productive-clearing",
   "metadata": {},
   "outputs": [],
   "source": []
  },
  {
   "cell_type": "code",
   "execution_count": null,
   "id": "unlike-conclusion",
   "metadata": {},
   "outputs": [],
   "source": []
  },
  {
   "cell_type": "markdown",
   "id": "looking-london",
   "metadata": {},
   "source": [
    "### Create Train and Test Datasets ###"
   ]
  },
  {
   "cell_type": "code",
   "execution_count": null,
   "id": "anonymous-fifth",
   "metadata": {},
   "outputs": [],
   "source": []
  },
  {
   "cell_type": "code",
   "execution_count": null,
   "id": "comic-encounter",
   "metadata": {},
   "outputs": [],
   "source": []
  },
  {
   "cell_type": "markdown",
   "id": "hungry-credit",
   "metadata": {},
   "source": [
    "### Train Models ###"
   ]
  },
  {
   "cell_type": "code",
   "execution_count": null,
   "id": "diagnostic-finish",
   "metadata": {},
   "outputs": [],
   "source": [
    "# Make use of logistic "
   ]
  },
  {
   "cell_type": "code",
   "execution_count": null,
   "id": "known-korea",
   "metadata": {},
   "outputs": [],
   "source": []
  },
  {
   "cell_type": "markdown",
   "id": "reflected-incentive",
   "metadata": {},
   "source": [
    "### Make Predictions ###"
   ]
  },
  {
   "cell_type": "code",
   "execution_count": null,
   "id": "comic-division",
   "metadata": {},
   "outputs": [],
   "source": []
  },
  {
   "cell_type": "code",
   "execution_count": null,
   "id": "grave-minute",
   "metadata": {},
   "outputs": [],
   "source": []
  },
  {
   "cell_type": "markdown",
   "id": "encouraging-enclosure",
   "metadata": {},
   "source": [
    "### Evaluation ###"
   ]
  },
  {
   "cell_type": "code",
   "execution_count": null,
   "id": "pressing-hanging",
   "metadata": {},
   "outputs": [],
   "source": []
  },
  {
   "cell_type": "code",
   "execution_count": null,
   "id": "sustained-flood",
   "metadata": {},
   "outputs": [],
   "source": []
  },
  {
   "cell_type": "markdown",
   "id": "neural-skating",
   "metadata": {},
   "source": [
    "### Resources ###"
   ]
  },
  {
   "cell_type": "markdown",
   "id": "alive-external",
   "metadata": {},
   "source": [
    "1. Research carried out from journal papers, books, articles etc.. regarding how machine learning techniques can be applied to credit modelling.\n",
    "<br>See (Luber, 2021) https://www.equifax.com/newsroom/all-news/-/story/bank-transaction-data-can-help-the-underserved-6/\n",
    "<br> See (ASTRI, 2020) https://www.astri.org/news-detail/astri-publishes-white-paper-on-alternative-credit-scoring-of-msmes/\n",
    "<br> See (Kenton, 2021) https://www.investopedia.com/terms/d/defaultprobability.asp\n",
    "<br> See (Vasile, 2020) https://towardsdatascience.com/whats-the-best-way-to-handle-nan-values-62d50f738fc\n",
    " "
   ]
  },
  {
   "cell_type": "markdown",
   "id": "compatible-compatibility",
   "metadata": {},
   "source": [
    "The following resources were accessed during the preparation of this project proposal;\n",
    "<br>\n",
    "<br>Brock, T (2021, 8 April), Credit Scoring. Available at: https://www.investopedia.com/terms/c/credit_scoring.asp Accessed 13th June 2021\n",
    "<br>\n",
    "<br>Bruce, Bruce and Gedeck (2020). Practical Statistics for Data Scientists 2nd edition. Boston: O'Reilly\n",
    "<br>\n",
    "<br>Summerfield, M (2010). Programming in Python 3: A Complete Introduction to the Python Language 2nd edition. Addison-Welsey\n",
    "<br>\n",
    "<br>McKinney, W. (2017). Python for Data Analysis 2nd edition. Boston: O'Reilly\n",
    "<br>\n",
    "<br>OECD, (2020, 15th July), Coronavirus (COVID-19): SME policy responses. Available at: https://www.oecd.org/coronavirus/policy-responses/coronavirus-covid-19-sme-policy-responses-04440101/ Accessed 3rd June 2021\n",
    "<br>\n",
    "<br>Sweet, K, (2017, 22 April), Major Changes Coming To How Your Credit Score Is Calculated. Available at: https://www.usatoday.com/story/money/personalfinance/2017/04/22/major-changes-coming-how-your-credit-score-calculated/100653342/ Accessed 5th June 2021\n"
   ]
  },
  {
   "cell_type": "code",
   "execution_count": null,
   "id": "moved-rapid",
   "metadata": {},
   "outputs": [],
   "source": []
  }
 ],
 "metadata": {
  "kernelspec": {
   "display_name": "Python 3",
   "language": "python",
   "name": "python3"
  },
  "language_info": {
   "codemirror_mode": {
    "name": "ipython",
    "version": 3
   },
   "file_extension": ".py",
   "mimetype": "text/x-python",
   "name": "python",
   "nbconvert_exporter": "python",
   "pygments_lexer": "ipython3",
   "version": "3.8.5"
  }
 },
 "nbformat": 4,
 "nbformat_minor": 5
}
